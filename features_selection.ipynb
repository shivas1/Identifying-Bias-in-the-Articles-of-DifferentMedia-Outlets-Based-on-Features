{
 "cells": [
  {
   "cell_type": "markdown",
   "metadata": {},
   "source": [
    "# Features selection"
   ]
  },
  {
   "cell_type": "markdown",
   "metadata": {},
   "source": [
    "In this script, we remove different groups of features from training to see when the performance decreases\n",
    "\n",
    "To run this script, the following data files are needed:\n",
    "- dt_final.xlsx (+)\n",
    "\n",
    "Saved models:\n",
    "- xgboost_no_enrichm.model (+)\n",
    "- xgboost_no_tfidf.model (+)\n",
    "- xgboost_no_lex.model (+)\n",
    "- xgboost_no_liwc.model (+)\n",
    "- xgboost_no_bias_lex.model (+)\n",
    "- xgboost_no_context.model (+)\n",
    "\n",
    "(attached: +, not attached: -)"
   ]
  },
  {
   "cell_type": "code",
   "execution_count": 6,
   "metadata": {},
   "outputs": [
    {
     "name": "stdout",
     "output_type": "stream",
     "text": [
      "Collecting scikit-plot\n",
      "  Downloading scikit_plot-0.3.7-py3-none-any.whl (33 kB)\n",
      "Requirement already satisfied: matplotlib>=1.4.0 in c:\\users\\shiva\\anaconda3\\lib\\site-packages (from scikit-plot) (3.1.3)\n",
      "Requirement already satisfied: joblib>=0.10 in c:\\users\\shiva\\anaconda3\\lib\\site-packages (from scikit-plot) (0.14.1)\n",
      "Requirement already satisfied: scipy>=0.9 in c:\\users\\shiva\\anaconda3\\lib\\site-packages (from scikit-plot) (1.4.1)\n",
      "Requirement already satisfied: scikit-learn>=0.18 in c:\\users\\shiva\\anaconda3\\lib\\site-packages (from scikit-plot) (0.24.2)\n",
      "Requirement already satisfied: pyparsing!=2.0.4,!=2.1.2,!=2.1.6,>=2.0.1 in c:\\users\\shiva\\anaconda3\\lib\\site-packages (from matplotlib>=1.4.0->scikit-plot) (2.4.6)\n",
      "Requirement already satisfied: cycler>=0.10 in c:\\users\\shiva\\anaconda3\\lib\\site-packages (from matplotlib>=1.4.0->scikit-plot) (0.10.0)\n",
      "Requirement already satisfied: numpy>=1.11 in c:\\users\\shiva\\anaconda3\\lib\\site-packages (from matplotlib>=1.4.0->scikit-plot) (1.18.1)\n",
      "Requirement already satisfied: python-dateutil>=2.1 in c:\\users\\shiva\\anaconda3\\lib\\site-packages (from matplotlib>=1.4.0->scikit-plot) (2.8.1)\n",
      "Requirement already satisfied: kiwisolver>=1.0.1 in c:\\users\\shiva\\anaconda3\\lib\\site-packages (from matplotlib>=1.4.0->scikit-plot) (1.1.0)\n",
      "Requirement already satisfied: threadpoolctl>=2.0.0 in c:\\users\\shiva\\anaconda3\\lib\\site-packages (from scikit-learn>=0.18->scikit-plot) (2.1.0)\n",
      "Requirement already satisfied: six in c:\\users\\shiva\\anaconda3\\lib\\site-packages (from cycler>=0.10->matplotlib>=1.4.0->scikit-plot) (1.14.0)\n",
      "Requirement already satisfied: setuptools in c:\\users\\shiva\\anaconda3\\lib\\site-packages (from kiwisolver>=1.0.1->matplotlib>=1.4.0->scikit-plot) (45.2.0.post20200210)\n",
      "Installing collected packages: scikit-plot\n",
      "Successfully installed scikit-plot-0.3.7\n"
     ]
    }
   ],
   "source": [
    "!pip install scikit-plot"
   ]
  },
  {
   "cell_type": "code",
   "execution_count": 1,
   "metadata": {},
   "outputs": [],
   "source": [
    "# misc\n",
    "import os\n",
    "import re\n",
    "import time\n",
    "import ast\n",
    "import warnings\n",
    "import math\n",
    "import copy\n",
    "import matplotlib.pyplot as plt\n",
    "from xgboost import plot_tree\n",
    "import seaborn as sns\n",
    "\n",
    "# data\n",
    "import pandas as pd\n",
    "import numpy as np\n",
    "import csv\n",
    "\n",
    "# ML\n",
    "from sklearn.preprocessing import MinMaxScaler\n",
    "from sklearn.model_selection import train_test_split\n",
    "from sklearn.model_selection import cross_val_score\n",
    "from sklearn.model_selection import cross_validate\n",
    "from sklearn.model_selection import KFold\n",
    "from sklearn import metrics\n",
    "#import scikitplot as skplt\n",
    "import xgboost"
   ]
  },
  {
   "cell_type": "code",
   "execution_count": 2,
   "metadata": {},
   "outputs": [
    {
     "name": "stderr",
     "output_type": "stream",
     "text": [
      "C:\\Users\\shiva\\anaconda3\\lib\\site-packages\\IPython\\core\\interactiveshell.py:3063: DtypeWarning: Columns (3,4) have mixed types.Specify dtype option on import or set low_memory=False.\n",
      "  interactivity=interactivity, compiler=compiler, result=result)\n"
     ]
    }
   ],
   "source": [
    "os.chdir('C:/Users/shiva/Desktop/Master_Thesis/final-data')\n",
    "data = pd.read_csv('dt_final_new_features.csv')"
   ]
  },
  {
   "cell_type": "markdown",
   "metadata": {},
   "source": [
    "## 1 Data preparation"
   ]
  },
  {
   "cell_type": "code",
   "execution_count": 3,
   "metadata": {},
   "outputs": [],
   "source": [
    "dt = data[[\n",
    " 'label4',\n",
    " 'glove_vec300_norm', # normalize\n",
    " 'tfidf_art', # normalize\n",
    " 'negative_conc',\n",
    " 'positive_conc',\n",
    " 'weak_subj',\n",
    " 'strong_subj',\n",
    " 'hyperbolic_terms',\n",
    " 'attitude_markers',\n",
    " 'kill_verbs',\n",
    " 'bias_lexicon',\n",
    " 'action_verbs',\n",
    " 'comparative_forms',\n",
    " 'modal_adverbs',\n",
    " 'manner_adverbs',\n",
    " 'superlative_forms',\n",
    " 'assertive_verbs',\n",
    " 'factive_verbs',\n",
    " 'report_verbs',\n",
    " 'implicative_verbs',\n",
    " 'hedges',\n",
    " 'boosters',\n",
    " 'affect ',\n",
    " 'posemo ',\n",
    " 'negemo ',\n",
    " 'anx ',\n",
    " 'anger ',\n",
    " 'sad ',\n",
    " 'social ',\n",
    " 'family ',\n",
    " 'friend ',\n",
    " 'female ',\n",
    " 'male ',\n",
    " 'cogproc ',\n",
    " 'insight ',\n",
    " 'cause ',\n",
    " 'discrep ',\n",
    " 'tentat ',\n",
    " 'certain ',\n",
    " 'differ ',\n",
    " 'percept ',\n",
    " 'see ',\n",
    " 'hear ',\n",
    " 'feel ',\n",
    " 'bio ',\n",
    " 'body ',\n",
    " 'health ',\n",
    " 'sexual ',\n",
    " 'ingest ',\n",
    " 'drives ',\n",
    " 'affiliation ',\n",
    " 'achieve ',\n",
    " 'power ',\n",
    " 'reward ',\n",
    " 'risk ',\n",
    " 'focuspast ',\n",
    " 'focuspresent ',\n",
    " 'focusfuture ',\n",
    " 'relativ ',\n",
    " 'motion ',\n",
    " 'space ',\n",
    " 'time ',\n",
    " 'work ',\n",
    " 'leisure ',\n",
    " 'home ',\n",
    " 'money ',\n",
    " 'relig ',\n",
    " 'death ',\n",
    " 'informal ',\n",
    " 'swear ',\n",
    " 'netspeak ',\n",
    " 'assent ',\n",
    " 'nonflu ',\n",
    " 'filler ',\n",
    " 'pos_ADJ',\n",
    " 'pos_ADP',\n",
    " 'pos_ADV',\n",
    " 'pos_AUX',\n",
    " 'pos_DET',\n",
    " 'pos_INTJ',\n",
    " 'pos_NOUN',\n",
    " 'pos_PRON',\n",
    " 'pos_PROPN',\n",
    " 'pos_SCONJ',\n",
    " 'pos_VERB',\n",
    " 'pos_X',\n",
    " 'dep_ROOT',\n",
    " 'dep_acl',\n",
    " 'dep_acomp',\n",
    " 'dep_advcl',\n",
    " 'dep_advmod',\n",
    " 'dep_agent',\n",
    " 'dep_amod',\n",
    " 'dep_appos',\n",
    " 'dep_attr',\n",
    " 'dep_aux',\n",
    " 'dep_auxpass',\n",
    " 'dep_case',\n",
    " 'dep_cc',\n",
    " 'dep_ccomp',\n",
    " 'dep_compound',\n",
    " 'dep_conj',\n",
    " 'dep_csubj',\n",
    " 'dep_dative',\n",
    " 'dep_dep',\n",
    " 'dep_det',\n",
    " 'dep_dobj',\n",
    " 'dep_expl',\n",
    " 'dep_intj',\n",
    " 'dep_mark',\n",
    "#  'dep_meta',\n",
    " 'dep_neg',\n",
    " 'dep_nmod',\n",
    " 'dep_npadvmod',\n",
    " 'dep_nsubj',\n",
    " 'dep_nsubjpass',\n",
    " 'dep_nummod',\n",
    " 'dep_oprd',\n",
    " 'dep_parataxis',\n",
    " 'dep_pcomp',\n",
    " 'dep_pobj',\n",
    " 'dep_poss',\n",
    " 'dep_preconj',\n",
    " 'dep_predet',\n",
    " 'dep_prep',\n",
    " 'dep_prt',\n",
    " 'dep_punct',\n",
    " 'dep_quantmod',\n",
    " 'dep_relcl',\n",
    " 'dep_xcomp',\n",
    " 'ne_CARDINAL',\n",
    " 'ne_DATE',\n",
    " 'ne_EVENT',\n",
    " 'ne_FAC',\n",
    " 'ne_GPE',\n",
    " 'ne_LANGUAGE',\n",
    " 'ne_LAW',\n",
    " 'ne_LOC',\n",
    " 'ne_MONEY',\n",
    " 'ne_NORP',\n",
    " 'ne_ORDINAL',\n",
    " 'ne_ORG',\n",
    " 'ne_PERCENT',\n",
    " 'ne_PERSON',\n",
    " 'ne_PRODUCT',\n",
    " 'ne_QUANTITY',\n",
    " 'ne_TIME',\n",
    " 'ne_WORK_OF_ART',\n",
    " 'negative_conc_context',\n",
    " 'positive_conc_context',\n",
    " 'weak_subj_context',\n",
    " 'strong_subj_context',\n",
    " 'hyperbolic_terms_context',\n",
    " 'attitude_markers_context',\n",
    " 'kill_verbs_context',\n",
    " 'bias_lexicon_context',\n",
    " 'action_verbs_context',\n",
    " 'comparative_forms_context',\n",
    " 'modal_adverbs_context',\n",
    " 'manner_adverbs_context',\n",
    " 'superlative_forms_context',\n",
    " 'assertive_verbs_context',\n",
    " 'factive_verbs_context',\n",
    " 'report_verbs_context',\n",
    " 'implicative_verbs_context',\n",
    " 'hedges_context',\n",
    " 'boosters_context',\n",
    " 'affect _context',\n",
    " 'posemo _context',\n",
    " 'negemo _context',\n",
    " 'anx _context',\n",
    " 'anger _context',\n",
    " 'sad _context',\n",
    " 'social _context',\n",
    " 'family _context',\n",
    " 'friend _context',\n",
    " 'female _context',\n",
    " 'male _context',\n",
    " 'cogproc _context',\n",
    " 'insight _context',\n",
    " 'cause _context',\n",
    " 'discrep _context',\n",
    " 'tentat _context',\n",
    " 'certain _context',\n",
    " 'differ _context',\n",
    " 'percept _context',\n",
    " 'see _context',\n",
    " 'hear _context',\n",
    " 'feel _context',\n",
    " 'bio _context',\n",
    " 'body _context',\n",
    " 'health _context',\n",
    " 'sexual _context',\n",
    " 'ingest _context',\n",
    " 'drives _context',\n",
    " 'affiliation _context',\n",
    " 'achieve _context',\n",
    " 'power _context',\n",
    " 'reward _context',\n",
    " 'risk _context',\n",
    " 'focuspast _context',\n",
    " 'focuspresent _context',\n",
    " 'focusfuture _context',\n",
    " 'relativ _context',\n",
    " 'motion _context',\n",
    " 'space _context',\n",
    " 'time _context',\n",
    " 'work _context',\n",
    " 'leisure _context',\n",
    " 'home _context',\n",
    " 'money _context',\n",
    " 'relig _context',\n",
    " 'death _context',\n",
    " 'informal _context',\n",
    " 'swear _context',\n",
    " 'netspeak _context',\n",
    " 'assent _context',\n",
    " 'nonflu _context',\n",
    " 'filler _context',\n",
    " 'pos_ADJ_context',\n",
    " 'pos_ADP_context',\n",
    " 'pos_ADV_context',\n",
    " 'pos_AUX_context',\n",
    " 'pos_DET_context',\n",
    " 'pos_INTJ_context',\n",
    " 'pos_NOUN_context',\n",
    " 'pos_PRON_context',\n",
    " 'pos_PROPN_context',\n",
    " 'pos_SCONJ_context',\n",
    " 'pos_VERB_context',\n",
    " 'pos_X_context',\n",
    " 'dep_ROOT_context',\n",
    " 'dep_acl_context',\n",
    " 'dep_acomp_context',\n",
    " 'dep_advcl_context',\n",
    " 'dep_advmod_context',\n",
    " 'dep_agent_context',\n",
    " 'dep_amod_context',\n",
    " 'dep_appos_context',\n",
    " 'dep_attr_context',\n",
    " 'dep_aux_context',\n",
    " 'dep_auxpass_context',\n",
    " 'dep_case_context',\n",
    " 'dep_cc_context',\n",
    " 'dep_ccomp_context',\n",
    " 'dep_compound_context',\n",
    " 'dep_conj_context',\n",
    " 'dep_csubj_context',\n",
    " 'dep_dative_context',\n",
    " 'dep_dep_context',\n",
    " 'dep_det_context',\n",
    " 'dep_dobj_context',\n",
    " 'dep_expl_context',\n",
    " 'dep_intj_context',\n",
    " 'dep_mark_context',\n",
    "#  'dep_meta_context',\n",
    " 'dep_neg_context',\n",
    " 'dep_nmod_context',\n",
    " 'dep_npadvmod_context',\n",
    " 'dep_nsubj_context',\n",
    " 'dep_nsubjpass_context',\n",
    " 'dep_nummod_context',\n",
    " 'dep_oprd_context',\n",
    " 'dep_parataxis_context',\n",
    " 'dep_pcomp_context',\n",
    " 'dep_pobj_context',\n",
    " 'dep_poss_context',\n",
    " 'dep_preconj_context',\n",
    " 'dep_predet_context',\n",
    " 'dep_prep_context',\n",
    " 'dep_prt_context',\n",
    " 'dep_punct_context',\n",
    " 'dep_quantmod_context',\n",
    " 'dep_relcl_context',\n",
    " 'dep_xcomp_context',\n",
    " 'ne_CARDINAL_context',\n",
    " 'ne_DATE_context',\n",
    " 'ne_EVENT_context',\n",
    " 'ne_FAC_context',\n",
    " 'ne_GPE_context',\n",
    " 'ne_LAW_context',\n",
    " 'ne_LOC_context',\n",
    " 'ne_MONEY_context',\n",
    " 'ne_NORP_context',\n",
    " 'ne_ORDINAL_context',\n",
    " 'ne_ORG_context',\n",
    " 'ne_PERCENT_context',\n",
    " 'ne_PERSON_context',\n",
    " 'ne_PRODUCT_context',\n",
    " 'ne_QUANTITY_context',\n",
    " 'ne_TIME_context',\n",
    " 'ne_WORK_OF_ART_context',\n",
    " 'ne_LANGUAGE_context']]"
   ]
  },
  {
   "cell_type": "code",
   "execution_count": 4,
   "metadata": {},
   "outputs": [
    {
     "name": "stdout",
     "output_type": "stream",
     "text": [
      "Number of missing values:\n",
      "tfidf_art 2142\n"
     ]
    }
   ],
   "source": [
    "print('Number of missing values:')\n",
    "mis = (dt.isnull().sum()).to_frame()\n",
    "for i, row in mis.iterrows():\n",
    "    if row[0] > 0:\n",
    "        print(i, row[0])\n",
    "\n",
    "# Delete the rows with missing article text:\n",
    "dt = dt.dropna(subset=['tfidf_art'])"
   ]
  },
  {
   "cell_type": "code",
   "execution_count": 5,
   "metadata": {},
   "outputs": [],
   "source": [
    "x = dt.drop(['label4'], 1)\n",
    "y4 = dt[['label4']]"
   ]
  },
  {
   "cell_type": "code",
   "execution_count": 6,
   "metadata": {},
   "outputs": [],
   "source": [
    "# train-test split\n",
    "train_features, test_features, train_labels, test_labels = train_test_split(x, y4, \n",
    "                                                                            test_size = 0.10, random_state = 42)\n",
    "train_features1, val_features, train_labels1, val_labels = train_test_split(train_features, train_labels, \n",
    "                                                                            test_size = 0.10, random_state = 42)"
   ]
  },
  {
   "cell_type": "code",
   "execution_count": 7,
   "metadata": {},
   "outputs": [
    {
     "data": {
      "text/plain": [
       "290"
      ]
     },
     "execution_count": 7,
     "metadata": {},
     "output_type": "execute_result"
    }
   ],
   "source": [
    "feature_names = list(x.columns)\n",
    "len(feature_names)"
   ]
  },
  {
   "cell_type": "code",
   "execution_count": 8,
   "metadata": {},
   "outputs": [],
   "source": [
    "# matrix for XGBoost\n",
    "dtrain = xgboost.DMatrix(train_features, label=train_labels, feature_names=feature_names)\n",
    "dtest = xgboost.DMatrix(test_features, label=test_labels, feature_names=feature_names)\n",
    "dtrain1 = xgboost.DMatrix(train_features1, label=train_labels1, feature_names=feature_names)\n",
    "dval = xgboost.DMatrix(val_features, label=val_labels, feature_names=feature_names)"
   ]
  },
  {
   "cell_type": "code",
   "execution_count": 9,
   "metadata": {},
   "outputs": [
    {
     "name": "stdout",
     "output_type": "stream",
     "text": [
      "Training Features Shape: (58268, 290)\n",
      "Training Labels Shape: (58268, 1)\n",
      "Testing Features Shape: (6475, 290)\n",
      "Testing Labels Shape: (6475, 1)\n",
      "Training Features for final model Shape: (52441, 290)\n",
      "Training Labels for final model Shape: (52441, 1)\n",
      "Validation Features Shape: (5827, 290)\n",
      "Validation Labels Shape: (5827, 1)\n"
     ]
    }
   ],
   "source": [
    "print('Training Features Shape:', train_features.shape)\n",
    "print('Training Labels Shape:', train_labels.shape)\n",
    "print('Testing Features Shape:', test_features.shape)\n",
    "print('Testing Labels Shape:', test_labels.shape)\n",
    "print('Training Features for final model Shape:', train_features1.shape)\n",
    "print('Training Labels for final model Shape:', train_labels1.shape)\n",
    "print('Validation Features Shape:', val_features.shape)\n",
    "print('Validation Labels Shape:', val_labels.shape)"
   ]
  },
  {
   "cell_type": "markdown",
   "metadata": {},
   "source": [
    "## 2 Features selection"
   ]
  },
  {
   "cell_type": "markdown",
   "metadata": {},
   "source": [
    "### 2.1 Final model (all features)"
   ]
  },
  {
   "cell_type": "code",
   "execution_count": 10,
   "metadata": {},
   "outputs": [],
   "source": [
    "# os.chdir('/Users/ladarudnitckaia/Desktop/Master Thesis/9. ML')\n",
    "# xgboost_tuned_weighted.save_model(\"xgboost_tuned_weighted.model\")\n",
    "xgboost_tuned_weighted = xgboost.Booster()\n",
    "xgboost_tuned_weighted.load_model(\"xgboost_tuned_weighted.model\")"
   ]
  },
  {
   "cell_type": "code",
   "execution_count": 11,
   "metadata": {},
   "outputs": [
    {
     "data": {
      "text/html": [
       "<div>\n",
       "<style scoped>\n",
       "    .dataframe tbody tr th:only-of-type {\n",
       "        vertical-align: middle;\n",
       "    }\n",
       "\n",
       "    .dataframe tbody tr th {\n",
       "        vertical-align: top;\n",
       "    }\n",
       "\n",
       "    .dataframe thead th {\n",
       "        text-align: right;\n",
       "    }\n",
       "</style>\n",
       "<table border=\"1\" class=\"dataframe\">\n",
       "  <thead>\n",
       "    <tr style=\"text-align: right;\">\n",
       "      <th></th>\n",
       "      <th>feature</th>\n",
       "      <th>score</th>\n",
       "      <th>name</th>\n",
       "    </tr>\n",
       "  </thead>\n",
       "  <tbody>\n",
       "    <tr>\n",
       "      <th>0</th>\n",
       "      <td>f2</td>\n",
       "      <td>259.468694</td>\n",
       "      <td>negative_conc</td>\n",
       "    </tr>\n",
       "    <tr>\n",
       "      <th>5</th>\n",
       "      <td>f81</td>\n",
       "      <td>84.406425</td>\n",
       "      <td>pos_PROPN</td>\n",
       "    </tr>\n",
       "    <tr>\n",
       "      <th>4</th>\n",
       "      <td>f5</td>\n",
       "      <td>75.172208</td>\n",
       "      <td>strong_subj</td>\n",
       "    </tr>\n",
       "    <tr>\n",
       "      <th>1</th>\n",
       "      <td>f73</td>\n",
       "      <td>72.352227</td>\n",
       "      <td>pos_ADJ</td>\n",
       "    </tr>\n",
       "    <tr>\n",
       "      <th>23</th>\n",
       "      <td>f149</td>\n",
       "      <td>44.732957</td>\n",
       "      <td>strong_subj_context</td>\n",
       "    </tr>\n",
       "    <tr>\n",
       "      <th>...</th>\n",
       "      <td>...</td>\n",
       "      <td>...</td>\n",
       "      <td>...</td>\n",
       "    </tr>\n",
       "    <tr>\n",
       "      <th>88</th>\n",
       "      <td>f98</td>\n",
       "      <td>3.051508</td>\n",
       "      <td>dep_ccomp</td>\n",
       "    </tr>\n",
       "    <tr>\n",
       "      <th>58</th>\n",
       "      <td>f100</td>\n",
       "      <td>2.762994</td>\n",
       "      <td>dep_conj</td>\n",
       "    </tr>\n",
       "    <tr>\n",
       "      <th>57</th>\n",
       "      <td>f117</td>\n",
       "      <td>2.370646</td>\n",
       "      <td>dep_pcomp</td>\n",
       "    </tr>\n",
       "    <tr>\n",
       "      <th>42</th>\n",
       "      <td>f167</td>\n",
       "      <td>2.052819</td>\n",
       "      <td>negemo _context</td>\n",
       "    </tr>\n",
       "    <tr>\n",
       "      <th>92</th>\n",
       "      <td>f36</td>\n",
       "      <td>1.922312</td>\n",
       "      <td>tentat</td>\n",
       "    </tr>\n",
       "  </tbody>\n",
       "</table>\n",
       "<p>101 rows × 3 columns</p>\n",
       "</div>"
      ],
      "text/plain": [
       "   feature       score                 name\n",
       "0       f2  259.468694        negative_conc\n",
       "5      f81   84.406425            pos_PROPN\n",
       "4       f5   75.172208          strong_subj\n",
       "1      f73   72.352227              pos_ADJ\n",
       "23    f149   44.732957  strong_subj_context\n",
       "..     ...         ...                  ...\n",
       "88     f98    3.051508            dep_ccomp\n",
       "58    f100    2.762994             dep_conj\n",
       "57    f117    2.370646            dep_pcomp\n",
       "42    f167    2.052819      negemo _context\n",
       "92     f36    1.922312              tentat \n",
       "\n",
       "[101 rows x 3 columns]"
      ]
     },
     "execution_count": 11,
     "metadata": {},
     "output_type": "execute_result"
    }
   ],
   "source": [
    "feat_imp = pd.DataFrame.from_dict(xgboost_tuned_weighted.get_score(importance_type='gain'), orient='index')\n",
    "feat_imp = feat_imp.reset_index()\n",
    "feat_imp = feat_imp.rename(columns={\"index\": \"feature\", 0: \"score\"})\n",
    "feat_imp = feat_imp.sort_values(by=['score'], ascending=False)\n",
    "\n",
    "feat_imp['name'] = None\n",
    "for i, feat in enumerate(feature_names):\n",
    "    #print(i, feat)\n",
    "    f = 'f'+str(i)\n",
    "    feat_imp['name'] = feat_imp.apply(lambda row: feat if row['feature']==f else row['name'], axis=1)\n",
    "\n",
    "feat_imp"
   ]
  },
  {
   "cell_type": "markdown",
   "metadata": {},
   "source": [
    "### 2.2 Vary importance score [>10 ... >400]"
   ]
  },
  {
   "cell_type": "code",
   "execution_count": 12,
   "metadata": {},
   "outputs": [
    {
     "data": {
      "text/plain": [
       "['negative_conc', 'pos_PROPN']"
      ]
     },
     "execution_count": 12,
     "metadata": {},
     "output_type": "execute_result"
    }
   ],
   "source": [
    "imp_feats = list(feat_imp[feat_imp['score']>80]['name'])\n",
    "x_imp_feats = x[imp_feats]\n",
    "list(x_imp_feats)"
   ]
  },
  {
   "cell_type": "code",
   "execution_count": 13,
   "metadata": {},
   "outputs": [],
   "source": [
    "def f1_eval(predt: np.ndarray, dtrain: xgboost.DMatrix):\n",
    "    y = dtrain.get_label()\n",
    "    predt_binary = np.where(predt > 0.5, 1, 0)\n",
    "    return \"F1_score\", metrics.f1_score(y_true=y, y_pred=predt_binary)"
   ]
  },
  {
   "cell_type": "code",
   "execution_count": 14,
   "metadata": {},
   "outputs": [],
   "source": [
    "column_names = [\"imp_thr\", \"auc\", \"f1\", \"precision\", \"recall\"]\n",
    "imp_perf = pd.DataFrame(columns = column_names)\n",
    "imp_perf_l = []"
   ]
  },
  {
   "cell_type": "code",
   "execution_count": 15,
   "metadata": {
    "scrolled": true
   },
   "outputs": [
    {
     "name": "stdout",
     "output_type": "stream",
     "text": [
      "[0]\tdtrain-F1_score:0.311244\tdval-F1_score:0.301966\n",
      "Multiple eval metrics have been passed: 'dval-F1_score' will be used for early stopping.\n",
      "\n",
      "Will train until dval-F1_score hasn't improved in 10 rounds.\n",
      "[1]\tdtrain-F1_score:0.336658\tdval-F1_score:0.33032\n",
      "[2]\tdtrain-F1_score:0.330854\tdval-F1_score:0.333821\n",
      "[3]\tdtrain-F1_score:0.340138\tdval-F1_score:0.34462\n",
      "[4]\tdtrain-F1_score:0.347913\tdval-F1_score:0.347296\n",
      "[5]\tdtrain-F1_score:0.350552\tdval-F1_score:0.356055\n",
      "[6]\tdtrain-F1_score:0.355263\tdval-F1_score:0.357143\n",
      "[7]\tdtrain-F1_score:0.35856\tdval-F1_score:0.368992\n",
      "[8]\tdtrain-F1_score:0.356668\tdval-F1_score:0.359128\n",
      "[9]\tdtrain-F1_score:0.358507\tdval-F1_score:0.363636\n",
      "[10]\tdtrain-F1_score:0.361946\tdval-F1_score:0.374429\n",
      "[11]\tdtrain-F1_score:0.364348\tdval-F1_score:0.37679\n",
      "[12]\tdtrain-F1_score:0.365887\tdval-F1_score:0.372506\n",
      "[13]\tdtrain-F1_score:0.367237\tdval-F1_score:0.367988\n",
      "[14]\tdtrain-F1_score:0.368053\tdval-F1_score:0.367833\n",
      "[15]\tdtrain-F1_score:0.369608\tdval-F1_score:0.374355\n",
      "[16]\tdtrain-F1_score:0.370028\tdval-F1_score:0.376018\n",
      "[17]\tdtrain-F1_score:0.374218\tdval-F1_score:0.376662\n",
      "[18]\tdtrain-F1_score:0.37609\tdval-F1_score:0.376296\n",
      "[19]\tdtrain-F1_score:0.377466\tdval-F1_score:0.380459\n",
      "[20]\tdtrain-F1_score:0.378597\tdval-F1_score:0.382288\n",
      "[21]\tdtrain-F1_score:0.37955\tdval-F1_score:0.38257\n",
      "[22]\tdtrain-F1_score:0.379553\tdval-F1_score:0.380251\n",
      "[23]\tdtrain-F1_score:0.380224\tdval-F1_score:0.383481\n",
      "[24]\tdtrain-F1_score:0.381334\tdval-F1_score:0.380323\n",
      "[25]\tdtrain-F1_score:0.380549\tdval-F1_score:0.380882\n",
      "[26]\tdtrain-F1_score:0.382021\tdval-F1_score:0.378022\n",
      "[27]\tdtrain-F1_score:0.382162\tdval-F1_score:0.380044\n",
      "[28]\tdtrain-F1_score:0.383019\tdval-F1_score:0.377193\n",
      "[29]\tdtrain-F1_score:0.382559\tdval-F1_score:0.376727\n",
      "[30]\tdtrain-F1_score:0.384214\tdval-F1_score:0.37881\n",
      "[31]\tdtrain-F1_score:0.385128\tdval-F1_score:0.377713\n",
      "[32]\tdtrain-F1_score:0.383394\tdval-F1_score:0.375627\n",
      "[33]\tdtrain-F1_score:0.383631\tdval-F1_score:0.376167\n",
      "Stopping. Best iteration:\n",
      "[23]\tdtrain-F1_score:0.380224\tdval-F1_score:0.383481\n",
      "\n",
      "[0]\tdtrain-F1_score:0.319078\tdval-F1_score:0.304316\n",
      "Multiple eval metrics have been passed: 'dval-F1_score' will be used for early stopping.\n",
      "\n",
      "Will train until dval-F1_score hasn't improved in 10 rounds.\n",
      "[1]\tdtrain-F1_score:0.319902\tdval-F1_score:0.30531\n",
      "[2]\tdtrain-F1_score:0.326058\tdval-F1_score:0.320115\n",
      "[3]\tdtrain-F1_score:0.328701\tdval-F1_score:0.32235\n",
      "[4]\tdtrain-F1_score:0.335155\tdval-F1_score:0.337818\n",
      "[5]\tdtrain-F1_score:0.334882\tdval-F1_score:0.333091\n",
      "[6]\tdtrain-F1_score:0.336541\tdval-F1_score:0.341818\n",
      "[7]\tdtrain-F1_score:0.337348\tdval-F1_score:0.347012\n",
      "[8]\tdtrain-F1_score:0.338972\tdval-F1_score:0.346401\n",
      "[9]\tdtrain-F1_score:0.342045\tdval-F1_score:0.350144\n",
      "[10]\tdtrain-F1_score:0.345378\tdval-F1_score:0.34877\n",
      "[11]\tdtrain-F1_score:0.346638\tdval-F1_score:0.348887\n",
      "[12]\tdtrain-F1_score:0.347927\tdval-F1_score:0.346968\n",
      "[13]\tdtrain-F1_score:0.347287\tdval-F1_score:0.342254\n",
      "[14]\tdtrain-F1_score:0.348792\tdval-F1_score:0.34136\n",
      "[15]\tdtrain-F1_score:0.349865\tdval-F1_score:0.343949\n",
      "[16]\tdtrain-F1_score:0.349046\tdval-F1_score:0.344729\n",
      "[17]\tdtrain-F1_score:0.348514\tdval-F1_score:0.343795\n",
      "[18]\tdtrain-F1_score:0.350466\tdval-F1_score:0.34678\n",
      "[19]\tdtrain-F1_score:0.350939\tdval-F1_score:0.352192\n",
      "[20]\tdtrain-F1_score:0.351733\tdval-F1_score:0.350035\n",
      "[21]\tdtrain-F1_score:0.352562\tdval-F1_score:0.349611\n",
      "[22]\tdtrain-F1_score:0.351542\tdval-F1_score:0.350778\n",
      "[23]\tdtrain-F1_score:0.351899\tdval-F1_score:0.347154\n",
      "[24]\tdtrain-F1_score:0.353204\tdval-F1_score:0.349432\n",
      "[25]\tdtrain-F1_score:0.354205\tdval-F1_score:0.350106\n",
      "[26]\tdtrain-F1_score:0.354115\tdval-F1_score:0.350106\n",
      "[27]\tdtrain-F1_score:0.355229\tdval-F1_score:0.350106\n",
      "[28]\tdtrain-F1_score:0.35545\tdval-F1_score:0.352442\n",
      "[29]\tdtrain-F1_score:0.354873\tdval-F1_score:0.350778\n",
      "[30]\tdtrain-F1_score:0.355579\tdval-F1_score:0.35053\n",
      "[31]\tdtrain-F1_score:0.355263\tdval-F1_score:0.350282\n",
      "[32]\tdtrain-F1_score:0.355406\tdval-F1_score:0.351695\n",
      "[33]\tdtrain-F1_score:0.35637\tdval-F1_score:0.351524\n",
      "[34]\tdtrain-F1_score:0.356755\tdval-F1_score:0.351447\n",
      "[35]\tdtrain-F1_score:0.356648\tdval-F1_score:0.352113\n",
      "[36]\tdtrain-F1_score:0.357181\tdval-F1_score:0.351617\n",
      "[37]\tdtrain-F1_score:0.358327\tdval-F1_score:0.353684\n",
      "[38]\tdtrain-F1_score:0.357262\tdval-F1_score:0.353352\n",
      "[39]\tdtrain-F1_score:0.357024\tdval-F1_score:0.354997\n",
      "[40]\tdtrain-F1_score:0.357717\tdval-F1_score:0.354342\n",
      "[41]\tdtrain-F1_score:0.357224\tdval-F1_score:0.352941\n",
      "[42]\tdtrain-F1_score:0.357495\tdval-F1_score:0.351787\n",
      "[43]\tdtrain-F1_score:0.35762\tdval-F1_score:0.351295\n",
      "[44]\tdtrain-F1_score:0.357593\tdval-F1_score:0.350804\n",
      "[45]\tdtrain-F1_score:0.357805\tdval-F1_score:0.350877\n",
      "[46]\tdtrain-F1_score:0.358023\tdval-F1_score:0.35014\n",
      "[47]\tdtrain-F1_score:0.359375\tdval-F1_score:0.346127\n",
      "[48]\tdtrain-F1_score:0.360316\tdval-F1_score:0.348984\n",
      "[49]\tdtrain-F1_score:0.360883\tdval-F1_score:0.348739\n",
      "Stopping. Best iteration:\n",
      "[39]\tdtrain-F1_score:0.357024\tdval-F1_score:0.354997\n",
      "\n",
      "[0]\tdtrain-F1_score:0.316074\tdval-F1_score:0.305109\n",
      "Multiple eval metrics have been passed: 'dval-F1_score' will be used for early stopping.\n",
      "\n",
      "Will train until dval-F1_score hasn't improved in 10 rounds.\n",
      "[1]\tdtrain-F1_score:0.317366\tdval-F1_score:0.30644\n",
      "[2]\tdtrain-F1_score:0.317191\tdval-F1_score:0.311176\n",
      "[3]\tdtrain-F1_score:0.32879\tdval-F1_score:0.326005\n",
      "[4]\tdtrain-F1_score:0.327454\tdval-F1_score:0.335252\n",
      "[5]\tdtrain-F1_score:0.331067\tdval-F1_score:0.340827\n",
      "[6]\tdtrain-F1_score:0.329034\tdval-F1_score:0.336383\n",
      "[7]\tdtrain-F1_score:0.333873\tdval-F1_score:0.347253\n",
      "[8]\tdtrain-F1_score:0.334061\tdval-F1_score:0.353721\n",
      "[9]\tdtrain-F1_score:0.332098\tdval-F1_score:0.345263\n",
      "[10]\tdtrain-F1_score:0.331366\tdval-F1_score:0.351447\n",
      "[11]\tdtrain-F1_score:0.334987\tdval-F1_score:0.355783\n",
      "[12]\tdtrain-F1_score:0.332477\tdval-F1_score:0.350355\n",
      "[13]\tdtrain-F1_score:0.335598\tdval-F1_score:0.356164\n",
      "[14]\tdtrain-F1_score:0.336231\tdval-F1_score:0.356164\n",
      "[15]\tdtrain-F1_score:0.336096\tdval-F1_score:0.356322\n",
      "[16]\tdtrain-F1_score:0.336475\tdval-F1_score:0.358166\n",
      "[17]\tdtrain-F1_score:0.33674\tdval-F1_score:0.357654\n",
      "[18]\tdtrain-F1_score:0.337764\tdval-F1_score:0.359599\n",
      "[19]\tdtrain-F1_score:0.337599\tdval-F1_score:0.35791\n",
      "[20]\tdtrain-F1_score:0.337679\tdval-F1_score:0.356028\n",
      "[21]\tdtrain-F1_score:0.338428\tdval-F1_score:0.358464\n",
      "[22]\tdtrain-F1_score:0.338262\tdval-F1_score:0.358209\n",
      "[23]\tdtrain-F1_score:0.337769\tdval-F1_score:0.356436\n",
      "[24]\tdtrain-F1_score:0.335955\tdval-F1_score:0.351389\n",
      "[25]\tdtrain-F1_score:0.336861\tdval-F1_score:0.35171\n",
      "[26]\tdtrain-F1_score:0.337191\tdval-F1_score:0.35122\n",
      "[27]\tdtrain-F1_score:0.336932\tdval-F1_score:0.350487\n",
      "[28]\tdtrain-F1_score:0.337563\tdval-F1_score:0.350243\n",
      "Stopping. Best iteration:\n",
      "[18]\tdtrain-F1_score:0.337764\tdval-F1_score:0.359599\n",
      "\n",
      "[0]\tdtrain-F1_score:0.312073\tdval-F1_score:0.310696\n",
      "Multiple eval metrics have been passed: 'dval-F1_score' will be used for early stopping.\n",
      "\n",
      "Will train until dval-F1_score hasn't improved in 10 rounds.\n",
      "[1]\tdtrain-F1_score:0.312073\tdval-F1_score:0.310696\n",
      "[2]\tdtrain-F1_score:0.306342\tdval-F1_score:0.306376\n",
      "[3]\tdtrain-F1_score:0.306342\tdval-F1_score:0.306376\n",
      "[4]\tdtrain-F1_score:0.306342\tdval-F1_score:0.306376\n",
      "[5]\tdtrain-F1_score:0.306342\tdval-F1_score:0.306376\n",
      "[6]\tdtrain-F1_score:0.306342\tdval-F1_score:0.306376\n",
      "[7]\tdtrain-F1_score:0.306342\tdval-F1_score:0.306376\n",
      "[8]\tdtrain-F1_score:0.306316\tdval-F1_score:0.306376\n",
      "[9]\tdtrain-F1_score:0.30637\tdval-F1_score:0.306376\n",
      "[10]\tdtrain-F1_score:0.30637\tdval-F1_score:0.306376\n",
      "Stopping. Best iteration:\n",
      "[0]\tdtrain-F1_score:0.312073\tdval-F1_score:0.310696\n",
      "\n",
      "[0]\tdtrain-F1_score:0.300909\tdval-F1_score:0.300946\n",
      "Multiple eval metrics have been passed: 'dval-F1_score' will be used for early stopping.\n",
      "\n",
      "Will train until dval-F1_score hasn't improved in 10 rounds.\n",
      "[1]\tdtrain-F1_score:0.300909\tdval-F1_score:0.300946\n",
      "[2]\tdtrain-F1_score:0.300909\tdval-F1_score:0.300946\n",
      "[3]\tdtrain-F1_score:0.300909\tdval-F1_score:0.300946\n",
      "[4]\tdtrain-F1_score:0.300909\tdval-F1_score:0.300946\n",
      "[5]\tdtrain-F1_score:0.300909\tdval-F1_score:0.300946\n",
      "[6]\tdtrain-F1_score:0.300909\tdval-F1_score:0.300946\n",
      "[7]\tdtrain-F1_score:0.300909\tdval-F1_score:0.300946\n",
      "[8]\tdtrain-F1_score:0.300909\tdval-F1_score:0.300946\n",
      "[9]\tdtrain-F1_score:0.300909\tdval-F1_score:0.300946\n",
      "[10]\tdtrain-F1_score:0.300909\tdval-F1_score:0.300946\n",
      "Stopping. Best iteration:\n",
      "[0]\tdtrain-F1_score:0.300909\tdval-F1_score:0.300946\n",
      "\n"
     ]
    },
    {
     "name": "stdout",
     "output_type": "stream",
     "text": [
      "[0]\tdtrain-F1_score:0.300909\tdval-F1_score:0.300946\n",
      "Multiple eval metrics have been passed: 'dval-F1_score' will be used for early stopping.\n",
      "\n",
      "Will train until dval-F1_score hasn't improved in 10 rounds.\n",
      "[1]\tdtrain-F1_score:0.300909\tdval-F1_score:0.300946\n",
      "[2]\tdtrain-F1_score:0.300909\tdval-F1_score:0.300946\n",
      "[3]\tdtrain-F1_score:0.300909\tdval-F1_score:0.300946\n",
      "[4]\tdtrain-F1_score:0.300909\tdval-F1_score:0.300946\n",
      "[5]\tdtrain-F1_score:0.300909\tdval-F1_score:0.300946\n",
      "[6]\tdtrain-F1_score:0.300909\tdval-F1_score:0.300946\n",
      "[7]\tdtrain-F1_score:0.300909\tdval-F1_score:0.300946\n",
      "[8]\tdtrain-F1_score:0.300909\tdval-F1_score:0.300946\n",
      "[9]\tdtrain-F1_score:0.300909\tdval-F1_score:0.300946\n",
      "[10]\tdtrain-F1_score:0.300909\tdval-F1_score:0.300946\n",
      "Stopping. Best iteration:\n",
      "[0]\tdtrain-F1_score:0.300909\tdval-F1_score:0.300946\n",
      "\n",
      "[0]\tdtrain-F1_score:0.300909\tdval-F1_score:0.300946\n",
      "Multiple eval metrics have been passed: 'dval-F1_score' will be used for early stopping.\n",
      "\n",
      "Will train until dval-F1_score hasn't improved in 10 rounds.\n",
      "[1]\tdtrain-F1_score:0.300909\tdval-F1_score:0.300946\n",
      "[2]\tdtrain-F1_score:0.300909\tdval-F1_score:0.300946\n",
      "[3]\tdtrain-F1_score:0.300909\tdval-F1_score:0.300946\n",
      "[4]\tdtrain-F1_score:0.300909\tdval-F1_score:0.300946\n",
      "[5]\tdtrain-F1_score:0.300909\tdval-F1_score:0.300946\n",
      "[6]\tdtrain-F1_score:0.300909\tdval-F1_score:0.300946\n",
      "[7]\tdtrain-F1_score:0.300909\tdval-F1_score:0.300946\n",
      "[8]\tdtrain-F1_score:0.300909\tdval-F1_score:0.300946\n",
      "[9]\tdtrain-F1_score:0.300909\tdval-F1_score:0.300946\n",
      "[10]\tdtrain-F1_score:0.300909\tdval-F1_score:0.300946\n",
      "Stopping. Best iteration:\n",
      "[0]\tdtrain-F1_score:0.300909\tdval-F1_score:0.300946\n",
      "\n",
      "[0]\tdtrain-F1_score:0.29597\tdval-F1_score:0.286745\n",
      "Multiple eval metrics have been passed: 'dval-F1_score' will be used for early stopping.\n",
      "\n",
      "Will train until dval-F1_score hasn't improved in 10 rounds.\n",
      "[1]\tdtrain-F1_score:0.29597\tdval-F1_score:0.286745\n",
      "[2]\tdtrain-F1_score:0.29597\tdval-F1_score:0.286745\n",
      "[3]\tdtrain-F1_score:0.29597\tdval-F1_score:0.286745\n",
      "[4]\tdtrain-F1_score:0.29597\tdval-F1_score:0.286745\n",
      "[5]\tdtrain-F1_score:0.29597\tdval-F1_score:0.286745\n",
      "[6]\tdtrain-F1_score:0.29597\tdval-F1_score:0.286745\n",
      "[7]\tdtrain-F1_score:0.29597\tdval-F1_score:0.286745\n",
      "[8]\tdtrain-F1_score:0.29597\tdval-F1_score:0.286745\n",
      "[9]\tdtrain-F1_score:0.29597\tdval-F1_score:0.286745\n",
      "[10]\tdtrain-F1_score:0.29597\tdval-F1_score:0.286745\n",
      "Stopping. Best iteration:\n",
      "[0]\tdtrain-F1_score:0.29597\tdval-F1_score:0.286745\n",
      "\n",
      "[0]\tdtrain-F1_score:0.292485\tdval-F1_score:0.284201\n",
      "Multiple eval metrics have been passed: 'dval-F1_score' will be used for early stopping.\n",
      "\n",
      "Will train until dval-F1_score hasn't improved in 10 rounds.\n",
      "[1]\tdtrain-F1_score:0.292485\tdval-F1_score:0.284201\n",
      "[2]\tdtrain-F1_score:0.292485\tdval-F1_score:0.284201\n",
      "[3]\tdtrain-F1_score:0.292485\tdval-F1_score:0.284201\n",
      "[4]\tdtrain-F1_score:0.292485\tdval-F1_score:0.284201\n",
      "[5]\tdtrain-F1_score:0.292485\tdval-F1_score:0.284201\n",
      "[6]\tdtrain-F1_score:0.292485\tdval-F1_score:0.284201\n",
      "[7]\tdtrain-F1_score:0.292485\tdval-F1_score:0.284201\n",
      "[8]\tdtrain-F1_score:0.292485\tdval-F1_score:0.284201\n",
      "[9]\tdtrain-F1_score:0.292485\tdval-F1_score:0.284201\n",
      "[10]\tdtrain-F1_score:0.292485\tdval-F1_score:0.284201\n",
      "Stopping. Best iteration:\n",
      "[0]\tdtrain-F1_score:0.292485\tdval-F1_score:0.284201\n",
      "\n",
      "[0]\tdtrain-F1_score:0.292485\tdval-F1_score:0.284201\n",
      "Multiple eval metrics have been passed: 'dval-F1_score' will be used for early stopping.\n",
      "\n",
      "Will train until dval-F1_score hasn't improved in 10 rounds.\n",
      "[1]\tdtrain-F1_score:0.292485\tdval-F1_score:0.284201\n",
      "[2]\tdtrain-F1_score:0.292485\tdval-F1_score:0.284201\n",
      "[3]\tdtrain-F1_score:0.292485\tdval-F1_score:0.284201\n",
      "[4]\tdtrain-F1_score:0.292485\tdval-F1_score:0.284201\n",
      "[5]\tdtrain-F1_score:0.292485\tdval-F1_score:0.284201\n",
      "[6]\tdtrain-F1_score:0.292485\tdval-F1_score:0.284201\n",
      "[7]\tdtrain-F1_score:0.292485\tdval-F1_score:0.284201\n",
      "[8]\tdtrain-F1_score:0.292485\tdval-F1_score:0.284201\n",
      "[9]\tdtrain-F1_score:0.292485\tdval-F1_score:0.284201\n",
      "[10]\tdtrain-F1_score:0.292485\tdval-F1_score:0.284201\n",
      "Stopping. Best iteration:\n",
      "[0]\tdtrain-F1_score:0.292485\tdval-F1_score:0.284201\n",
      "\n"
     ]
    },
    {
     "ename": "XGBoostError",
     "evalue": "[12:23:44] C:\\Jenkins\\workspace\\xgboost-win64_release_0.90\\src\\learner.cc:723: Check failed: mparam_.num_feature != 0 (0 vs. 0) : 0 feature is supplied.  Are you using raw Booster interface?",
     "output_type": "error",
     "traceback": [
      "\u001b[1;31m---------------------------------------------------------------------------\u001b[0m",
      "\u001b[1;31mXGBoostError\u001b[0m                              Traceback (most recent call last)",
      "\u001b[1;32m<ipython-input-15-1f334b384550>\u001b[0m in \u001b[0;36m<module>\u001b[1;34m\u001b[0m\n\u001b[0;32m     35\u001b[0m         \u001b[0mfeval\u001b[0m\u001b[1;33m=\u001b[0m\u001b[0mf1_eval\u001b[0m\u001b[1;33m,\u001b[0m\u001b[1;33m\u001b[0m\u001b[1;33m\u001b[0m\u001b[0m\n\u001b[0;32m     36\u001b[0m         \u001b[0mearly_stopping_rounds\u001b[0m \u001b[1;33m=\u001b[0m \u001b[1;36m10\u001b[0m\u001b[1;33m,\u001b[0m\u001b[1;33m\u001b[0m\u001b[1;33m\u001b[0m\u001b[0m\n\u001b[1;32m---> 37\u001b[1;33m         maximize=True)\n\u001b[0m\u001b[0;32m     38\u001b[0m \u001b[1;33m\u001b[0m\u001b[0m\n\u001b[0;32m     39\u001b[0m     \u001b[0mxgboost_imp_predt\u001b[0m \u001b[1;33m=\u001b[0m \u001b[0mnp\u001b[0m\u001b[1;33m.\u001b[0m\u001b[0mwhere\u001b[0m\u001b[1;33m(\u001b[0m\u001b[0mxgboost_imp\u001b[0m\u001b[1;33m.\u001b[0m\u001b[0mpredict\u001b[0m\u001b[1;33m(\u001b[0m\u001b[0mdtest\u001b[0m\u001b[1;33m)\u001b[0m \u001b[1;33m>\u001b[0m \u001b[1;36m0.5\u001b[0m\u001b[1;33m,\u001b[0m \u001b[1;36m1\u001b[0m\u001b[1;33m,\u001b[0m \u001b[1;36m0\u001b[0m\u001b[1;33m)\u001b[0m\u001b[1;33m\u001b[0m\u001b[1;33m\u001b[0m\u001b[0m\n",
      "\u001b[1;32m~\\anaconda3\\lib\\site-packages\\xgboost\\training.py\u001b[0m in \u001b[0;36mtrain\u001b[1;34m(params, dtrain, num_boost_round, evals, obj, feval, maximize, early_stopping_rounds, evals_result, verbose_eval, xgb_model, callbacks, learning_rates)\u001b[0m\n\u001b[0;32m    214\u001b[0m                            \u001b[0mevals\u001b[0m\u001b[1;33m=\u001b[0m\u001b[0mevals\u001b[0m\u001b[1;33m,\u001b[0m\u001b[1;33m\u001b[0m\u001b[1;33m\u001b[0m\u001b[0m\n\u001b[0;32m    215\u001b[0m                            \u001b[0mobj\u001b[0m\u001b[1;33m=\u001b[0m\u001b[0mobj\u001b[0m\u001b[1;33m,\u001b[0m \u001b[0mfeval\u001b[0m\u001b[1;33m=\u001b[0m\u001b[0mfeval\u001b[0m\u001b[1;33m,\u001b[0m\u001b[1;33m\u001b[0m\u001b[1;33m\u001b[0m\u001b[0m\n\u001b[1;32m--> 216\u001b[1;33m                            xgb_model=xgb_model, callbacks=callbacks)\n\u001b[0m\u001b[0;32m    217\u001b[0m \u001b[1;33m\u001b[0m\u001b[0m\n\u001b[0;32m    218\u001b[0m \u001b[1;33m\u001b[0m\u001b[0m\n",
      "\u001b[1;32m~\\anaconda3\\lib\\site-packages\\xgboost\\training.py\u001b[0m in \u001b[0;36m_train_internal\u001b[1;34m(params, dtrain, num_boost_round, evals, obj, feval, xgb_model, callbacks)\u001b[0m\n\u001b[0;32m     72\u001b[0m         \u001b[1;31m# Skip the first update if it is a recovery step.\u001b[0m\u001b[1;33m\u001b[0m\u001b[1;33m\u001b[0m\u001b[1;33m\u001b[0m\u001b[0m\n\u001b[0;32m     73\u001b[0m         \u001b[1;32mif\u001b[0m \u001b[0mversion\u001b[0m \u001b[1;33m%\u001b[0m \u001b[1;36m2\u001b[0m \u001b[1;33m==\u001b[0m \u001b[1;36m0\u001b[0m\u001b[1;33m:\u001b[0m\u001b[1;33m\u001b[0m\u001b[1;33m\u001b[0m\u001b[0m\n\u001b[1;32m---> 74\u001b[1;33m             \u001b[0mbst\u001b[0m\u001b[1;33m.\u001b[0m\u001b[0mupdate\u001b[0m\u001b[1;33m(\u001b[0m\u001b[0mdtrain\u001b[0m\u001b[1;33m,\u001b[0m \u001b[0mi\u001b[0m\u001b[1;33m,\u001b[0m \u001b[0mobj\u001b[0m\u001b[1;33m)\u001b[0m\u001b[1;33m\u001b[0m\u001b[1;33m\u001b[0m\u001b[0m\n\u001b[0m\u001b[0;32m     75\u001b[0m             \u001b[0mbst\u001b[0m\u001b[1;33m.\u001b[0m\u001b[0msave_rabit_checkpoint\u001b[0m\u001b[1;33m(\u001b[0m\u001b[1;33m)\u001b[0m\u001b[1;33m\u001b[0m\u001b[1;33m\u001b[0m\u001b[0m\n\u001b[0;32m     76\u001b[0m             \u001b[0mversion\u001b[0m \u001b[1;33m+=\u001b[0m \u001b[1;36m1\u001b[0m\u001b[1;33m\u001b[0m\u001b[1;33m\u001b[0m\u001b[0m\n",
      "\u001b[1;32m~\\anaconda3\\lib\\site-packages\\xgboost\\core.py\u001b[0m in \u001b[0;36mupdate\u001b[1;34m(self, dtrain, iteration, fobj)\u001b[0m\n\u001b[0;32m   1107\u001b[0m         \u001b[1;32mif\u001b[0m \u001b[0mfobj\u001b[0m \u001b[1;32mis\u001b[0m \u001b[1;32mNone\u001b[0m\u001b[1;33m:\u001b[0m\u001b[1;33m\u001b[0m\u001b[1;33m\u001b[0m\u001b[0m\n\u001b[0;32m   1108\u001b[0m             _check_call(_LIB.XGBoosterUpdateOneIter(self.handle, ctypes.c_int(iteration),\n\u001b[1;32m-> 1109\u001b[1;33m                                                     dtrain.handle))\n\u001b[0m\u001b[0;32m   1110\u001b[0m         \u001b[1;32melse\u001b[0m\u001b[1;33m:\u001b[0m\u001b[1;33m\u001b[0m\u001b[1;33m\u001b[0m\u001b[0m\n\u001b[0;32m   1111\u001b[0m             \u001b[0mpred\u001b[0m \u001b[1;33m=\u001b[0m \u001b[0mself\u001b[0m\u001b[1;33m.\u001b[0m\u001b[0mpredict\u001b[0m\u001b[1;33m(\u001b[0m\u001b[0mdtrain\u001b[0m\u001b[1;33m)\u001b[0m\u001b[1;33m\u001b[0m\u001b[1;33m\u001b[0m\u001b[0m\n",
      "\u001b[1;32m~\\anaconda3\\lib\\site-packages\\xgboost\\core.py\u001b[0m in \u001b[0;36m_check_call\u001b[1;34m(ret)\u001b[0m\n\u001b[0;32m    174\u001b[0m     \"\"\"\n\u001b[0;32m    175\u001b[0m     \u001b[1;32mif\u001b[0m \u001b[0mret\u001b[0m \u001b[1;33m!=\u001b[0m \u001b[1;36m0\u001b[0m\u001b[1;33m:\u001b[0m\u001b[1;33m\u001b[0m\u001b[1;33m\u001b[0m\u001b[0m\n\u001b[1;32m--> 176\u001b[1;33m         \u001b[1;32mraise\u001b[0m \u001b[0mXGBoostError\u001b[0m\u001b[1;33m(\u001b[0m\u001b[0mpy_str\u001b[0m\u001b[1;33m(\u001b[0m\u001b[0m_LIB\u001b[0m\u001b[1;33m.\u001b[0m\u001b[0mXGBGetLastError\u001b[0m\u001b[1;33m(\u001b[0m\u001b[1;33m)\u001b[0m\u001b[1;33m)\u001b[0m\u001b[1;33m)\u001b[0m\u001b[1;33m\u001b[0m\u001b[1;33m\u001b[0m\u001b[0m\n\u001b[0m\u001b[0;32m    177\u001b[0m \u001b[1;33m\u001b[0m\u001b[0m\n\u001b[0;32m    178\u001b[0m \u001b[1;33m\u001b[0m\u001b[0m\n",
      "\u001b[1;31mXGBoostError\u001b[0m: [12:23:44] C:\\Jenkins\\workspace\\xgboost-win64_release_0.90\\src\\learner.cc:723: Check failed: mparam_.num_feature != 0 (0 vs. 0) : 0 feature is supplied.  Are you using raw Booster interface?"
     ]
    }
   ],
   "source": [
    "thr = [10, 20, 30, 40, 50, 60, 70, 80, 90, 100, 400]\n",
    "for th in thr:\n",
    "    imp_feats = list(feat_imp[feat_imp['score']>=th]['name'])\n",
    "    x_imp_feats = x[imp_feats]\n",
    "    \n",
    "    train_features, test_features, train_labels, test_labels = train_test_split(x_imp_feats, y4, \n",
    "                                                                            test_size = 0.10, random_state = 42)\n",
    "    train_features1, val_features, train_labels1, val_labels = train_test_split(train_features, train_labels, \n",
    "                                                                                test_size = 0.10, random_state = 42)\n",
    "    \n",
    "    feature_names = list(train_features)\n",
    "    \n",
    "    dtrain = xgboost.DMatrix(train_features, label=train_labels, feature_names=feature_names)\n",
    "    dtest = xgboost.DMatrix(test_features, label=test_labels, feature_names=feature_names)\n",
    "    dtrain1 = xgboost.DMatrix(train_features1, label=train_labels1, feature_names=feature_names)\n",
    "    dval = xgboost.DMatrix(val_features, label=val_labels, feature_names=feature_names)\n",
    "    \n",
    "    params = {'max_depth': 6,\n",
    "     'min_child_weight': 18,\n",
    "     'eta': 0.2,\n",
    "     'subsample': 1.0,\n",
    "     'colsample_bytree': 1.0,\n",
    "     'objective': 'binary:logistic',\n",
    "     'disable_default_eval_metric': 1,\n",
    "     'seed': 42,\n",
    "     'tree_method': 'hist',\n",
    "     'scale_pos_weight': 9.471599402092675}\n",
    "    num_boost_round=999\n",
    "\n",
    "    xgboost_imp = xgboost.train(\n",
    "        params,\n",
    "        dtrain1,\n",
    "        num_boost_round=num_boost_round,\n",
    "        evals=[(dtrain1, 'dtrain'), (dval, 'dval')],\n",
    "        feval=f1_eval,\n",
    "        early_stopping_rounds = 10,\n",
    "        maximize=True)\n",
    "\n",
    "    xgboost_imp_predt = np.where(xgboost_imp.predict(dtest) > 0.5, 1, 0)\n",
    "    auc = round(metrics.roc_auc_score(dtest.get_label(), xgboost_imp_predt),2)\n",
    "    f1 = round(metrics.f1_score(dtest.get_label(),xgboost_imp_predt),2)\n",
    "    pr = round(metrics.precision_score(dtest.get_label(), xgboost_imp_predt),2)\n",
    "    rc = round(metrics.recall_score(dtest.get_label(), xgboost_imp_predt),2)\n",
    "    \n",
    "    values = [th, auc, f1, pr, rc]\n",
    "    zipped = zip(column_names, values)\n",
    "    a_dictionary = dict(zipped)\n",
    "    imp_perf_l.append(a_dictionary) \n",
    "\n",
    "imp_perf = imp_perf.append(imp_perf_l, True)\n",
    "imp_perf"
   ]
  },
  {
   "cell_type": "markdown",
   "metadata": {},
   "source": [
    "### 2.3 All features without enrichment features"
   ]
  },
  {
   "cell_type": "code",
   "execution_count": 16,
   "metadata": {},
   "outputs": [],
   "source": [
    "x_no_enrichm = x.drop(['pos_ADJ',\n",
    " 'pos_ADP',\n",
    " 'pos_ADV',\n",
    " 'pos_AUX',\n",
    " 'pos_DET',\n",
    " 'pos_INTJ',\n",
    " 'pos_NOUN',\n",
    " 'pos_PRON',\n",
    " 'pos_PROPN',\n",
    " 'pos_SCONJ',\n",
    " 'pos_VERB',\n",
    " 'pos_X',\n",
    " 'dep_ROOT',\n",
    " 'dep_acl',\n",
    " 'dep_acomp',\n",
    " 'dep_advcl',\n",
    " 'dep_advmod',\n",
    " 'dep_agent',\n",
    " 'dep_amod',\n",
    " 'dep_appos',\n",
    " 'dep_attr',\n",
    " 'dep_aux',\n",
    " 'dep_auxpass',\n",
    " 'dep_case',\n",
    " 'dep_cc',\n",
    " 'dep_ccomp',\n",
    " 'dep_compound',\n",
    " 'dep_conj',\n",
    " 'dep_csubj',\n",
    " 'dep_dative',\n",
    " 'dep_dep',\n",
    " 'dep_det',\n",
    " 'dep_dobj',\n",
    " 'dep_expl',\n",
    " 'dep_intj',\n",
    " 'dep_mark',\n",
    "#  'dep_meta',\n",
    " 'dep_neg',\n",
    " 'dep_nmod',\n",
    " 'dep_npadvmod',\n",
    " 'dep_nsubj',\n",
    " 'dep_nsubjpass',\n",
    " 'dep_nummod',\n",
    " 'dep_oprd',\n",
    " 'dep_parataxis',\n",
    " 'dep_pcomp',\n",
    " 'dep_pobj',\n",
    " 'dep_poss',\n",
    " 'dep_preconj',\n",
    " 'dep_predet',\n",
    " 'dep_prep',\n",
    " 'dep_prt',\n",
    " 'dep_punct',\n",
    " 'dep_quantmod',\n",
    " 'dep_relcl',\n",
    " 'dep_xcomp',\n",
    " 'ne_CARDINAL',\n",
    " 'ne_DATE',\n",
    " 'ne_EVENT',\n",
    " 'ne_FAC',\n",
    " 'ne_GPE',\n",
    " 'ne_LANGUAGE',\n",
    " 'ne_LAW',\n",
    " 'ne_LOC',\n",
    " 'ne_MONEY',\n",
    " 'ne_NORP',\n",
    " 'ne_ORDINAL',\n",
    " 'ne_ORG',\n",
    " 'ne_PERCENT',\n",
    " 'ne_PERSON',\n",
    " 'ne_PRODUCT',\n",
    " 'ne_QUANTITY',\n",
    " 'ne_TIME',\n",
    " 'ne_WORK_OF_ART',                \n",
    " 'pos_ADJ_context',\n",
    " 'pos_ADP_context',\n",
    " 'pos_ADV_context',\n",
    " 'pos_AUX_context',\n",
    " 'pos_DET_context',\n",
    " 'pos_INTJ_context',\n",
    " 'pos_NOUN_context',\n",
    " 'pos_PRON_context',\n",
    " 'pos_PROPN_context',\n",
    " 'pos_SCONJ_context',\n",
    " 'pos_VERB_context',\n",
    " 'pos_X_context',\n",
    " 'dep_ROOT_context',\n",
    " 'dep_acl_context',\n",
    " 'dep_acomp_context',\n",
    " 'dep_advcl_context',\n",
    " 'dep_advmod_context',\n",
    " 'dep_agent_context',\n",
    " 'dep_amod_context',\n",
    " 'dep_appos_context',\n",
    " 'dep_attr_context',\n",
    " 'dep_aux_context',\n",
    " 'dep_auxpass_context',\n",
    " 'dep_case_context',\n",
    " 'dep_cc_context',\n",
    " 'dep_ccomp_context',\n",
    " 'dep_compound_context',\n",
    " 'dep_conj_context',\n",
    " 'dep_csubj_context',\n",
    " 'dep_dative_context',\n",
    " 'dep_dep_context',\n",
    " 'dep_det_context',\n",
    " 'dep_dobj_context',\n",
    " 'dep_expl_context',\n",
    " 'dep_intj_context',\n",
    " 'dep_mark_context',\n",
    "#  'dep_meta_context',\n",
    " 'dep_neg_context',\n",
    " 'dep_nmod_context',\n",
    " 'dep_npadvmod_context',\n",
    " 'dep_nsubj_context',\n",
    " 'dep_nsubjpass_context',\n",
    " 'dep_nummod_context',\n",
    " 'dep_oprd_context',\n",
    " 'dep_parataxis_context',\n",
    " 'dep_pcomp_context',\n",
    " 'dep_pobj_context',\n",
    " 'dep_poss_context',\n",
    " 'dep_preconj_context',\n",
    " 'dep_predet_context',\n",
    " 'dep_prep_context',\n",
    " 'dep_prt_context',\n",
    " 'dep_punct_context',\n",
    " 'dep_quantmod_context',\n",
    " 'dep_relcl_context',\n",
    " 'dep_xcomp_context',\n",
    " 'ne_CARDINAL_context',\n",
    " 'ne_DATE_context',\n",
    " 'ne_EVENT_context',\n",
    " 'ne_FAC_context',\n",
    " 'ne_GPE_context',\n",
    " 'ne_LAW_context',\n",
    " 'ne_LOC_context',\n",
    " 'ne_MONEY_context',\n",
    " 'ne_NORP_context',\n",
    " 'ne_ORDINAL_context',\n",
    " 'ne_ORG_context',\n",
    " 'ne_PERCENT_context',\n",
    " 'ne_PERSON_context',\n",
    " 'ne_PRODUCT_context',\n",
    " 'ne_QUANTITY_context',\n",
    " 'ne_TIME_context',\n",
    " 'ne_WORK_OF_ART_context',\n",
    " 'ne_LANGUAGE_context'], 1)"
   ]
  },
  {
   "cell_type": "code",
   "execution_count": 17,
   "metadata": {},
   "outputs": [],
   "source": [
    "train_features, test_features, train_labels, test_labels = train_test_split(x_no_enrichm, y4, \n",
    "                                                                            test_size = 0.10, random_state = 42)\n",
    "train_features1, val_features, train_labels1, val_labels = train_test_split(train_features, train_labels, \n",
    "                                                                            test_size = 0.10, random_state = 42)"
   ]
  },
  {
   "cell_type": "code",
   "execution_count": 18,
   "metadata": {},
   "outputs": [
    {
     "data": {
      "text/plain": [
       "144"
      ]
     },
     "execution_count": 18,
     "metadata": {},
     "output_type": "execute_result"
    }
   ],
   "source": [
    "feature_names = list(x_no_enrichm.columns)\n",
    "len(feature_names)"
   ]
  },
  {
   "cell_type": "code",
   "execution_count": 19,
   "metadata": {},
   "outputs": [],
   "source": [
    "dtrain = xgboost.DMatrix(train_features, label=train_labels, feature_names=feature_names)\n",
    "dtest = xgboost.DMatrix(test_features, label=test_labels, feature_names=feature_names)\n",
    "dtrain1 = xgboost.DMatrix(train_features1, label=train_labels1, feature_names=feature_names)\n",
    "dval = xgboost.DMatrix(val_features, label=val_labels, feature_names=feature_names)"
   ]
  },
  {
   "cell_type": "code",
   "execution_count": 20,
   "metadata": {},
   "outputs": [],
   "source": [
    "params = {'max_depth': 6,\n",
    " 'min_child_weight': 18,\n",
    " 'eta': 0.2,\n",
    " 'subsample': 1.0,\n",
    " 'colsample_bytree': 1.0,\n",
    " 'objective': 'binary:logistic',\n",
    " 'disable_default_eval_metric': 1,\n",
    " 'seed': 42,\n",
    " 'tree_method': 'hist',\n",
    " 'scale_pos_weight': 9.471599402092675}\n",
    "num_boost_round=999"
   ]
  },
  {
   "cell_type": "code",
   "execution_count": 21,
   "metadata": {
    "scrolled": true
   },
   "outputs": [
    {
     "name": "stdout",
     "output_type": "stream",
     "text": [
      "[0]\tdtrain-F1_score:0.314981\tdval-F1_score:0.315113\n",
      "Multiple eval metrics have been passed: 'dval-F1_score' will be used for early stopping.\n",
      "\n",
      "Will train until dval-F1_score hasn't improved in 10 rounds.\n",
      "[1]\tdtrain-F1_score:0.332385\tdval-F1_score:0.330114\n",
      "[2]\tdtrain-F1_score:0.336442\tdval-F1_score:0.329861\n",
      "[3]\tdtrain-F1_score:0.338131\tdval-F1_score:0.329614\n",
      "[4]\tdtrain-F1_score:0.341417\tdval-F1_score:0.343805\n",
      "[5]\tdtrain-F1_score:0.345495\tdval-F1_score:0.341593\n",
      "[6]\tdtrain-F1_score:0.347475\tdval-F1_score:0.343059\n",
      "[7]\tdtrain-F1_score:0.350116\tdval-F1_score:0.346188\n",
      "[8]\tdtrain-F1_score:0.349042\tdval-F1_score:0.345658\n",
      "[9]\tdtrain-F1_score:0.348624\tdval-F1_score:0.344538\n",
      "[10]\tdtrain-F1_score:0.350786\tdval-F1_score:0.35034\n",
      "[11]\tdtrain-F1_score:0.354383\tdval-F1_score:0.350604\n",
      "[12]\tdtrain-F1_score:0.354018\tdval-F1_score:0.35234\n",
      "[13]\tdtrain-F1_score:0.356454\tdval-F1_score:0.354756\n",
      "[14]\tdtrain-F1_score:0.356703\tdval-F1_score:0.350759\n",
      "[15]\tdtrain-F1_score:0.359691\tdval-F1_score:0.353638\n",
      "[16]\tdtrain-F1_score:0.363198\tdval-F1_score:0.356164\n",
      "[17]\tdtrain-F1_score:0.363181\tdval-F1_score:0.353846\n",
      "[18]\tdtrain-F1_score:0.361494\tdval-F1_score:0.354812\n",
      "[19]\tdtrain-F1_score:0.362353\tdval-F1_score:0.356187\n",
      "[20]\tdtrain-F1_score:0.364045\tdval-F1_score:0.358506\n",
      "[21]\tdtrain-F1_score:0.365303\tdval-F1_score:0.355372\n",
      "[22]\tdtrain-F1_score:0.366195\tdval-F1_score:0.356436\n",
      "[23]\tdtrain-F1_score:0.365332\tdval-F1_score:0.35323\n",
      "[24]\tdtrain-F1_score:0.365955\tdval-F1_score:0.350163\n",
      "[25]\tdtrain-F1_score:0.367531\tdval-F1_score:0.356275\n",
      "[26]\tdtrain-F1_score:0.368143\tdval-F1_score:0.354451\n",
      "[27]\tdtrain-F1_score:0.369009\tdval-F1_score:0.353317\n",
      "[28]\tdtrain-F1_score:0.369782\tdval-F1_score:0.358521\n",
      "[29]\tdtrain-F1_score:0.370103\tdval-F1_score:0.354916\n",
      "[30]\tdtrain-F1_score:0.370845\tdval-F1_score:0.353883\n",
      "[31]\tdtrain-F1_score:0.373663\tdval-F1_score:0.351807\n",
      "[32]\tdtrain-F1_score:0.373744\tdval-F1_score:0.352751\n",
      "[33]\tdtrain-F1_score:0.377174\tdval-F1_score:0.350849\n",
      "[34]\tdtrain-F1_score:0.378303\tdval-F1_score:0.348594\n",
      "[35]\tdtrain-F1_score:0.379205\tdval-F1_score:0.353982\n",
      "[36]\tdtrain-F1_score:0.380155\tdval-F1_score:0.357488\n",
      "[37]\tdtrain-F1_score:0.380861\tdval-F1_score:0.355484\n",
      "[38]\tdtrain-F1_score:0.381466\tdval-F1_score:0.350962\n",
      "Stopping. Best iteration:\n",
      "[28]\tdtrain-F1_score:0.369782\tdval-F1_score:0.358521\n",
      "\n"
     ]
    }
   ],
   "source": [
    "xgboost_no_enrichm = xgboost.train(\n",
    "    params,\n",
    "    dtrain1,\n",
    "    num_boost_round=num_boost_round,\n",
    "    evals=[(dtrain1, 'dtrain'), (dval, 'dval')],\n",
    "    feval=f1_eval,\n",
    "    early_stopping_rounds = 10,\n",
    "    maximize=True)"
   ]
  },
  {
   "cell_type": "code",
   "execution_count": 22,
   "metadata": {},
   "outputs": [],
   "source": [
    "# os.chdir('/Users/ladarudnitckaia/Desktop/Master Thesis/9. ML')\n",
    "xgboost_no_enrichm.save_model(\"xgboost_no_enrichm.model\")\n",
    "xgboost_no_enrichm = xgboost.Booster()\n",
    "xgboost_no_enrichm.load_model(\"xgboost_no_enrichm.model\")"
   ]
  },
  {
   "cell_type": "code",
   "execution_count": 23,
   "metadata": {},
   "outputs": [
    {
     "name": "stdout",
     "output_type": "stream",
     "text": [
      "Performance of xgboost_no_enrichm, test:\n",
      "F1: 0.33\n",
      "Precision: 0.24\n",
      "Recall: 0.54\n",
      "AUC: 0.71\n",
      "Accuracy: 0.85\n",
      "Confusion matrix:\n",
      " [[5288  206]\n",
      " [ 743  238]]\n"
     ]
    }
   ],
   "source": [
    "xgboost_no_enrichm_predt = np.where(xgboost_no_enrichm.predict(dtest) > 0.5, 1, 0)\n",
    "print('Performance of xgboost_no_enrichm, test:')\n",
    "print('F1:', round(metrics.f1_score(dtest.get_label(),xgboost_no_enrichm_predt),2))\n",
    "print('Precision:', round(metrics.precision_score(dtest.get_label(), xgboost_no_enrichm_predt),2))\n",
    "print('Recall:', round(metrics.recall_score(dtest.get_label(), xgboost_no_enrichm_predt),2))\n",
    "print('AUC:', round(metrics.roc_auc_score(dtest.get_label(), xgboost_no_enrichm_predt),2))\n",
    "print('Accuracy:', round(metrics.accuracy_score(dtest.get_label(), xgboost_no_enrichm_predt),2))\n",
    "print('Confusion matrix:\\n', metrics.confusion_matrix(dtest.get_label(), xgboost_no_enrichm_predt).transpose())"
   ]
  },
  {
   "cell_type": "code",
   "execution_count": 24,
   "metadata": {},
   "outputs": [
    {
     "data": {
      "text/plain": [
       "Text(0, 0.5, 'Features')"
      ]
     },
     "execution_count": 24,
     "metadata": {},
     "output_type": "execute_result"
    },
    {
     "data": {
      "image/png": "[encoded data removed]",
      "text/plain": [
       "<Figure size 576x576 with 1 Axes>"
      ]
     },
     "metadata": {
      "needs_background": "light"
     },
     "output_type": "display_data"
    }
   ],
   "source": [
    "fig, ax = plt.subplots(1, 1, figsize=(8,8))\n",
    "plt.rcParams['font.size'] = 16\n",
    "\n",
    "xgboost.plot_importance(xgboost_no_enrichm, ax=ax, show_values=False, max_num_features=20,\n",
    "                       importance_type='gain', height=0.7, grid=False, color='lightsteelblue')\n",
    "ax.set_ylabel('Features', fontsize=16)"
   ]
  },
  {
   "cell_type": "markdown",
   "metadata": {},
   "source": [
    "### 2.4 All features without TF-IDF"
   ]
  },
  {
   "cell_type": "code",
   "execution_count": 25,
   "metadata": {},
   "outputs": [],
   "source": [
    "x_no_tfidf = x.drop(['tfidf_art'], 1)"
   ]
  },
  {
   "cell_type": "code",
   "execution_count": 26,
   "metadata": {},
   "outputs": [],
   "source": [
    "train_features, test_features, train_labels, test_labels = train_test_split(x_no_tfidf, y4, \n",
    "                                                                            test_size = 0.10, random_state = 42)\n",
    "train_features1, val_features, train_labels1, val_labels = train_test_split(train_features, train_labels, \n",
    "                                                                            test_size = 0.10, random_state = 42)"
   ]
  },
  {
   "cell_type": "code",
   "execution_count": 27,
   "metadata": {},
   "outputs": [
    {
     "data": {
      "text/plain": [
       "289"
      ]
     },
     "execution_count": 27,
     "metadata": {},
     "output_type": "execute_result"
    }
   ],
   "source": [
    "feature_names = list(x_no_tfidf.columns)\n",
    "len(feature_names)"
   ]
  },
  {
   "cell_type": "code",
   "execution_count": 28,
   "metadata": {},
   "outputs": [],
   "source": [
    "dtrain = xgboost.DMatrix(train_features, label=train_labels, feature_names=feature_names)\n",
    "dtest = xgboost.DMatrix(test_features, label=test_labels, feature_names=feature_names)\n",
    "dtrain1 = xgboost.DMatrix(train_features1, label=train_labels1, feature_names=feature_names)\n",
    "dval = xgboost.DMatrix(val_features, label=val_labels, feature_names=feature_names)"
   ]
  },
  {
   "cell_type": "code",
   "execution_count": 29,
   "metadata": {},
   "outputs": [],
   "source": [
    "params = {'max_depth': 6,\n",
    " 'min_child_weight': 18,\n",
    " 'eta': 0.2,\n",
    " 'subsample': 1.0,\n",
    " 'colsample_bytree': 1.0,\n",
    " 'objective': 'binary:logistic',\n",
    " 'disable_default_eval_metric': 1,\n",
    " 'seed': 42,\n",
    " 'tree_method': 'hist',\n",
    " 'scale_pos_weight': 9.471599402092675}\n",
    "num_boost_round=999"
   ]
  },
  {
   "cell_type": "code",
   "execution_count": 30,
   "metadata": {
    "scrolled": true
   },
   "outputs": [
    {
     "name": "stdout",
     "output_type": "stream",
     "text": [
      "[0]\tdtrain-F1_score:0.341277\tdval-F1_score:0.335958\n",
      "Multiple eval metrics have been passed: 'dval-F1_score' will be used for early stopping.\n",
      "\n",
      "Will train until dval-F1_score hasn't improved in 10 rounds.\n",
      "[1]\tdtrain-F1_score:0.346125\tdval-F1_score:0.333913\n",
      "[2]\tdtrain-F1_score:0.343912\tdval-F1_score:0.334152\n",
      "[3]\tdtrain-F1_score:0.341736\tdval-F1_score:0.327543\n",
      "[4]\tdtrain-F1_score:0.344685\tdval-F1_score:0.329527\n",
      "[5]\tdtrain-F1_score:0.350316\tdval-F1_score:0.332192\n",
      "[6]\tdtrain-F1_score:0.354932\tdval-F1_score:0.333047\n",
      "[7]\tdtrain-F1_score:0.361629\tdval-F1_score:0.341166\n",
      "[8]\tdtrain-F1_score:0.356774\tdval-F1_score:0.34449\n",
      "[9]\tdtrain-F1_score:0.361955\tdval-F1_score:0.344482\n",
      "[10]\tdtrain-F1_score:0.359106\tdval-F1_score:0.341824\n",
      "[11]\tdtrain-F1_score:0.364694\tdval-F1_score:0.352066\n",
      "[12]\tdtrain-F1_score:0.366507\tdval-F1_score:0.360656\n",
      "[13]\tdtrain-F1_score:0.367953\tdval-F1_score:0.361426\n",
      "[14]\tdtrain-F1_score:0.370209\tdval-F1_score:0.360258\n",
      "[15]\tdtrain-F1_score:0.370975\tdval-F1_score:0.360288\n",
      "[16]\tdtrain-F1_score:0.371372\tdval-F1_score:0.360866\n",
      "[17]\tdtrain-F1_score:0.37277\tdval-F1_score:0.359712\n",
      "[18]\tdtrain-F1_score:0.372989\tdval-F1_score:0.359712\n",
      "[19]\tdtrain-F1_score:0.373113\tdval-F1_score:0.36063\n",
      "[20]\tdtrain-F1_score:0.373567\tdval-F1_score:0.355799\n",
      "[21]\tdtrain-F1_score:0.3757\tdval-F1_score:0.36249\n",
      "[22]\tdtrain-F1_score:0.376736\tdval-F1_score:0.351767\n",
      "[23]\tdtrain-F1_score:0.376396\tdval-F1_score:0.355556\n",
      "[24]\tdtrain-F1_score:0.377422\tdval-F1_score:0.355212\n",
      "[25]\tdtrain-F1_score:0.378464\tdval-F1_score:0.355762\n",
      "[26]\tdtrain-F1_score:0.378576\tdval-F1_score:0.357198\n",
      "[27]\tdtrain-F1_score:0.379545\tdval-F1_score:0.351497\n",
      "[28]\tdtrain-F1_score:0.380368\tdval-F1_score:0.352761\n",
      "[29]\tdtrain-F1_score:0.379998\tdval-F1_score:0.352761\n",
      "[30]\tdtrain-F1_score:0.381495\tdval-F1_score:0.351682\n",
      "[31]\tdtrain-F1_score:0.383031\tdval-F1_score:0.350797\n",
      "Stopping. Best iteration:\n",
      "[21]\tdtrain-F1_score:0.3757\tdval-F1_score:0.36249\n",
      "\n"
     ]
    }
   ],
   "source": [
    "xgboost_no_tfidf = xgboost.train(\n",
    "    params,\n",
    "    dtrain1,\n",
    "    num_boost_round=num_boost_round,\n",
    "    evals=[(dtrain1, 'dtrain'), (dval, 'dval')],\n",
    "    feval=f1_eval,\n",
    "    early_stopping_rounds = 10,\n",
    "    maximize=True)"
   ]
  },
  {
   "cell_type": "code",
   "execution_count": 31,
   "metadata": {},
   "outputs": [],
   "source": [
    "# os.chdir('/Users/ladarudnitckaia/Desktop/Master Thesis/9. ML')\n",
    "xgboost_no_tfidf.save_model(\"xgboost_no_tfidf.model\")\n",
    "xgboost_no_tfidf = xgboost.Booster()\n",
    "xgboost_no_tfidf.load_model(\"xgboost_no_tfidf.model\")"
   ]
  },
  {
   "cell_type": "code",
   "execution_count": 32,
   "metadata": {},
   "outputs": [
    {
     "name": "stdout",
     "output_type": "stream",
     "text": [
      "Performance of xgboost_no_tfidf, test:\n",
      "F1: 0.36\n",
      "Precision: 0.25\n",
      "Recall: 0.61\n",
      "AUC: 0.74\n",
      "Accuracy: 0.85\n",
      "Confusion matrix:\n",
      " [[5222  171]\n",
      " [ 809  273]]\n"
     ]
    }
   ],
   "source": [
    "xgboost_no_tfidf_predt = np.where(xgboost_no_tfidf.predict(dtest) > 0.5, 1, 0)\n",
    "print('Performance of xgboost_no_tfidf, test:')\n",
    "print('F1:', round(metrics.f1_score(dtest.get_label(),xgboost_no_tfidf_predt),2))\n",
    "print('Precision:', round(metrics.precision_score(dtest.get_label(), xgboost_no_tfidf_predt),2))\n",
    "print('Recall:', round(metrics.recall_score(dtest.get_label(), xgboost_no_tfidf_predt),2))\n",
    "print('AUC:', round(metrics.roc_auc_score(dtest.get_label(), xgboost_no_tfidf_predt),2))\n",
    "print('Accuracy:', round(metrics.accuracy_score(dtest.get_label(), xgboost_no_tfidf_predt),2))\n",
    "print('Confusion matrix:\\n', metrics.confusion_matrix(dtest.get_label(), xgboost_no_tfidf_predt).transpose())"
   ]
  },
  {
   "cell_type": "code",
   "execution_count": 33,
   "metadata": {},
   "outputs": [
    {
     "data": {
      "text/plain": [
       "Text(0, 0.5, 'Features')"
      ]
     },
     "execution_count": 33,
     "metadata": {},
     "output_type": "execute_result"
    },
    {
     "data": {
      "image/png": "[encoded data removed]",
      "text/plain": [
       "<Figure size 576x576 with 1 Axes>"
      ]
     },
     "metadata": {
      "needs_background": "light"
     },
     "output_type": "display_data"
    }
   ],
   "source": [
    "fig, ax = plt.subplots(1, 1, figsize=(8,8))\n",
    "plt.rcParams['font.size'] = 16\n",
    "\n",
    "xgboost.plot_importance(xgboost_no_tfidf, ax=ax, show_values=False, max_num_features=20,\n",
    "                       importance_type='gain', height=0.7, grid=False, color='lightsteelblue')\n",
    "ax.set_ylabel('Features', fontsize=16)"
   ]
  },
  {
   "cell_type": "markdown",
   "metadata": {},
   "source": [
    "### 2.5 All features without LIWC2015"
   ]
  },
  {
   "cell_type": "code",
   "execution_count": 34,
   "metadata": {},
   "outputs": [],
   "source": [
    "x_no_liwc = x.drop(['affect ',\n",
    " 'posemo ',\n",
    " 'negemo ',\n",
    " 'anx ',\n",
    " 'anger ',\n",
    " 'sad ',\n",
    " 'social ',\n",
    " 'family ',\n",
    " 'friend ',\n",
    " 'female ',\n",
    " 'male ',\n",
    " 'cogproc ',\n",
    " 'insight ',\n",
    " 'cause ',\n",
    " 'discrep ',\n",
    " 'tentat ',\n",
    " 'certain ',\n",
    " 'differ ',\n",
    " 'percept ',\n",
    " 'see ',\n",
    " 'hear ',\n",
    " 'feel ',\n",
    " 'bio ',\n",
    " 'body ',\n",
    " 'health ',\n",
    " 'sexual ',\n",
    " 'ingest ',\n",
    " 'drives ',\n",
    " 'affiliation ',\n",
    " 'achieve ',\n",
    " 'power ',\n",
    " 'reward ',\n",
    " 'risk ',\n",
    " 'focuspast ',\n",
    " 'focuspresent ',\n",
    " 'focusfuture ',\n",
    " 'relativ ',\n",
    " 'motion ',\n",
    " 'space ',\n",
    " 'time ',\n",
    " 'work ',\n",
    " 'leisure ',\n",
    " 'home ',\n",
    " 'money ',\n",
    " 'relig ',\n",
    " 'death ',\n",
    " 'informal ',\n",
    " 'swear ',\n",
    " 'netspeak ',\n",
    " 'assent ',\n",
    " 'nonflu ',\n",
    " 'filler ',\n",
    " 'affect _context',\n",
    " 'posemo _context',\n",
    " 'negemo _context',\n",
    " 'anx _context',\n",
    " 'anger _context',\n",
    " 'sad _context',\n",
    " 'social _context',\n",
    " 'family _context',\n",
    " 'friend _context',\n",
    " 'female _context',\n",
    " 'male _context',\n",
    " 'cogproc _context',\n",
    " 'insight _context',\n",
    " 'cause _context',\n",
    " 'discrep _context',\n",
    " 'tentat _context',\n",
    " 'certain _context',\n",
    " 'differ _context',\n",
    " 'percept _context',\n",
    " 'see _context',\n",
    " 'hear _context',\n",
    " 'feel _context',\n",
    " 'bio _context',\n",
    " 'body _context',\n",
    " 'health _context',\n",
    " 'sexual _context',\n",
    " 'ingest _context',\n",
    " 'drives _context',\n",
    " 'affiliation _context',\n",
    " 'achieve _context',\n",
    " 'power _context',\n",
    " 'reward _context',\n",
    " 'risk _context',\n",
    " 'focuspast _context',\n",
    " 'focuspresent _context',\n",
    " 'focusfuture _context',\n",
    " 'relativ _context',\n",
    " 'motion _context',\n",
    " 'space _context',\n",
    " 'time _context',\n",
    " 'work _context',\n",
    " 'leisure _context',\n",
    " 'home _context',\n",
    " 'money _context',\n",
    " 'relig _context',\n",
    " 'death _context',\n",
    " 'informal _context',\n",
    " 'swear _context',\n",
    " 'netspeak _context',\n",
    " 'assent _context',\n",
    " 'nonflu _context',\n",
    " 'filler _context'], 1)"
   ]
  },
  {
   "cell_type": "code",
   "execution_count": 37,
   "metadata": {},
   "outputs": [
    {
     "data": {
      "text/plain": [
       "289"
      ]
     },
     "execution_count": 37,
     "metadata": {},
     "output_type": "execute_result"
    }
   ],
   "source": [
    "len(feature_names)"
   ]
  },
  {
   "cell_type": "code",
   "execution_count": 38,
   "metadata": {},
   "outputs": [],
   "source": [
    "train_features, test_features, train_labels, test_labels = train_test_split(x_no_liwc, y4, \n",
    "                                                                            test_size = 0.10, random_state = 42)\n",
    "train_features1, val_features, train_labels1, val_labels = train_test_split(train_features, train_labels, \n",
    "                                                                            test_size = 0.10, random_state = 42)"
   ]
  },
  {
   "cell_type": "code",
   "execution_count": 39,
   "metadata": {},
   "outputs": [
    {
     "data": {
      "text/plain": [
       "186"
      ]
     },
     "execution_count": 39,
     "metadata": {},
     "output_type": "execute_result"
    }
   ],
   "source": [
    "feature_names = list(x_no_liwc.columns)\n",
    "len(feature_names)"
   ]
  },
  {
   "cell_type": "code",
   "execution_count": 40,
   "metadata": {},
   "outputs": [],
   "source": [
    "dtrain = xgboost.DMatrix(train_features, label=train_labels, feature_names=feature_names)\n",
    "dtest = xgboost.DMatrix(test_features, label=test_labels, feature_names=feature_names)\n",
    "dtrain1 = xgboost.DMatrix(train_features1, label=train_labels1, feature_names=feature_names)\n",
    "dval = xgboost.DMatrix(val_features, label=val_labels, feature_names=feature_names)"
   ]
  },
  {
   "cell_type": "code",
   "execution_count": 41,
   "metadata": {},
   "outputs": [],
   "source": [
    "params = {'max_depth': 6,\n",
    " 'min_child_weight': 18,\n",
    " 'eta': 0.2,\n",
    " 'subsample': 1.0,\n",
    " 'colsample_bytree': 1.0,\n",
    " 'objective': 'binary:logistic',\n",
    " 'disable_default_eval_metric': 1,\n",
    " 'seed': 42,\n",
    " 'tree_method': 'hist',\n",
    " 'scale_pos_weight': 9.471599402092675}\n",
    "num_boost_round=999"
   ]
  },
  {
   "cell_type": "code",
   "execution_count": 42,
   "metadata": {
    "scrolled": true
   },
   "outputs": [
    {
     "name": "stdout",
     "output_type": "stream",
     "text": [
      "[0]\tdtrain-F1_score:0.307013\tdval-F1_score:0.303239\n",
      "Multiple eval metrics have been passed: 'dval-F1_score' will be used for early stopping.\n",
      "\n",
      "Will train until dval-F1_score hasn't improved in 10 rounds.\n",
      "[1]\tdtrain-F1_score:0.339522\tdval-F1_score:0.341584\n",
      "[2]\tdtrain-F1_score:0.330275\tdval-F1_score:0.33815\n",
      "[3]\tdtrain-F1_score:0.33073\tdval-F1_score:0.337906\n",
      "[4]\tdtrain-F1_score:0.346084\tdval-F1_score:0.353678\n",
      "[5]\tdtrain-F1_score:0.347374\tdval-F1_score:0.360402\n",
      "[6]\tdtrain-F1_score:0.348984\tdval-F1_score:0.350774\n",
      "[7]\tdtrain-F1_score:0.349992\tdval-F1_score:0.362134\n",
      "[8]\tdtrain-F1_score:0.351915\tdval-F1_score:0.364324\n",
      "[9]\tdtrain-F1_score:0.355365\tdval-F1_score:0.369254\n",
      "[10]\tdtrain-F1_score:0.357598\tdval-F1_score:0.365139\n",
      "[11]\tdtrain-F1_score:0.357927\tdval-F1_score:0.369417\n",
      "[12]\tdtrain-F1_score:0.361716\tdval-F1_score:0.369532\n",
      "[13]\tdtrain-F1_score:0.364524\tdval-F1_score:0.374813\n",
      "[14]\tdtrain-F1_score:0.365414\tdval-F1_score:0.36756\n",
      "[15]\tdtrain-F1_score:0.36546\tdval-F1_score:0.373626\n",
      "[16]\tdtrain-F1_score:0.366965\tdval-F1_score:0.370044\n",
      "[17]\tdtrain-F1_score:0.367236\tdval-F1_score:0.377193\n",
      "[18]\tdtrain-F1_score:0.36972\tdval-F1_score:0.374636\n",
      "[19]\tdtrain-F1_score:0.370347\tdval-F1_score:0.378102\n",
      "[20]\tdtrain-F1_score:0.373746\tdval-F1_score:0.374449\n",
      "[21]\tdtrain-F1_score:0.373327\tdval-F1_score:0.373353\n",
      "[22]\tdtrain-F1_score:0.37544\tdval-F1_score:0.37345\n",
      "[23]\tdtrain-F1_score:0.375609\tdval-F1_score:0.373178\n",
      "[24]\tdtrain-F1_score:0.375618\tdval-F1_score:0.374363\n",
      "[25]\tdtrain-F1_score:0.377621\tdval-F1_score:0.369186\n",
      "[26]\tdtrain-F1_score:0.377328\tdval-F1_score:0.36865\n",
      "[27]\tdtrain-F1_score:0.378184\tdval-F1_score:0.372807\n",
      "[28]\tdtrain-F1_score:0.378993\tdval-F1_score:0.370909\n",
      "[29]\tdtrain-F1_score:0.378452\tdval-F1_score:0.37618\n",
      "Stopping. Best iteration:\n",
      "[19]\tdtrain-F1_score:0.370347\tdval-F1_score:0.378102\n",
      "\n"
     ]
    }
   ],
   "source": [
    "xgboost_no_liwc = xgboost.train(\n",
    "    params,\n",
    "    dtrain1,\n",
    "    num_boost_round=num_boost_round,\n",
    "    evals=[(dtrain1, 'dtrain'), (dval, 'dval')],\n",
    "    feval=f1_eval,\n",
    "    early_stopping_rounds = 10,\n",
    "    maximize=True)"
   ]
  },
  {
   "cell_type": "code",
   "execution_count": 43,
   "metadata": {},
   "outputs": [],
   "source": [
    "# os.chdir('/Users/ladarudnitckaia/Desktop/Master Thesis/9. ML')\n",
    "xgboost_no_liwc.save_model(\"xgboost_no_liwc.model\")\n",
    "xgboost_no_liwc = xgboost.Booster()\n",
    "xgboost_no_liwc.load_model(\"xgboost_no_liwc.model\")"
   ]
  },
  {
   "cell_type": "code",
   "execution_count": 44,
   "metadata": {},
   "outputs": [
    {
     "name": "stdout",
     "output_type": "stream",
     "text": [
      "Performance of xgboost_no_liwc, test:\n",
      "F1: 0.36\n",
      "Precision: 0.25\n",
      "Recall: 0.64\n",
      "AUC: 0.75\n",
      "Accuracy: 0.84\n",
      "Confusion matrix:\n",
      " [[5167  160]\n",
      " [ 864  284]]\n"
     ]
    }
   ],
   "source": [
    "xgboost_no_liwc_predt = np.where(xgboost_no_liwc.predict(dtest) > 0.5, 1, 0)\n",
    "print('Performance of xgboost_no_liwc, test:')\n",
    "print('F1:', round(metrics.f1_score(dtest.get_label(),xgboost_no_liwc_predt),2))\n",
    "print('Precision:', round(metrics.precision_score(dtest.get_label(), xgboost_no_liwc_predt),2))\n",
    "print('Recall:', round(metrics.recall_score(dtest.get_label(), xgboost_no_liwc_predt),2))\n",
    "print('AUC:', round(metrics.roc_auc_score(dtest.get_label(), xgboost_no_liwc_predt),2))\n",
    "print('Accuracy:', round(metrics.accuracy_score(dtest.get_label(), xgboost_no_liwc_predt),2))\n",
    "print('Confusion matrix:\\n', metrics.confusion_matrix(dtest.get_label(), xgboost_no_liwc_predt).transpose())"
   ]
  },
  {
   "cell_type": "code",
   "execution_count": 45,
   "metadata": {},
   "outputs": [
    {
     "data": {
      "text/plain": [
       "Text(0, 0.5, 'Features')"
      ]
     },
     "execution_count": 45,
     "metadata": {},
     "output_type": "execute_result"
    },
    {
     "data": {
      "image/png": "[encoded data removed]",
      "text/plain": [
       "<Figure size 576x576 with 1 Axes>"
      ]
     },
     "metadata": {
      "needs_background": "light"
     },
     "output_type": "display_data"
    }
   ],
   "source": [
    "fig, ax = plt.subplots(1, 1, figsize=(8,8))\n",
    "plt.rcParams['font.size'] = 16\n",
    "\n",
    "xgboost.plot_importance(xgboost_no_liwc, ax=ax, show_values=False, max_num_features=20,\n",
    "                       importance_type='gain', height=0.7, grid=False, color='lightsteelblue')\n",
    "ax.set_ylabel('Features', fontsize=16)"
   ]
  },
  {
   "cell_type": "markdown",
   "metadata": {},
   "source": [
    "### 2.6 All features without lexical features"
   ]
  },
  {
   "cell_type": "code",
   "execution_count": 47,
   "metadata": {},
   "outputs": [],
   "source": [
    "x_no_lex = x.drop(['negative_conc',\n",
    " 'positive_conc',\n",
    " 'weak_subj',\n",
    " 'strong_subj',\n",
    " 'hyperbolic_terms',\n",
    " 'attitude_markers',\n",
    " 'kill_verbs',\n",
    " 'bias_lexicon',\n",
    " 'action_verbs',\n",
    " 'comparative_forms',\n",
    " 'modal_adverbs',\n",
    " 'manner_adverbs',\n",
    " 'superlative_forms',\n",
    " 'assertive_verbs',\n",
    " 'factive_verbs',\n",
    " 'report_verbs',\n",
    " 'implicative_verbs',                   \n",
    " 'hedges',\n",
    " 'boosters',\n",
    " 'negative_conc_context',\n",
    " 'positive_conc_context',\n",
    " 'weak_subj_context',\n",
    " 'strong_subj_context',\n",
    " 'hyperbolic_terms_context',\n",
    " 'attitude_markers_context',\n",
    " 'kill_verbs_context',\n",
    " 'bias_lexicon_context',\n",
    " 'action_verbs_context',\n",
    " 'comparative_forms_context',\n",
    " 'modal_adverbs_context',\n",
    " 'manner_adverbs_context',\n",
    " 'superlative_forms_context',\n",
    " 'assertive_verbs_context',\n",
    " 'factive_verbs_context',\n",
    " 'report_verbs_context',\n",
    " 'implicative_verbs_context',\n",
    " 'hedges_context',\n",
    " 'boosters_context'], 1)"
   ]
  },
  {
   "cell_type": "code",
   "execution_count": 48,
   "metadata": {},
   "outputs": [],
   "source": [
    "train_features, test_features, train_labels, test_labels = train_test_split(x_no_lex, y4, \n",
    "                                                                            test_size = 0.10, random_state = 42)\n",
    "train_features1, val_features, train_labels1, val_labels = train_test_split(train_features, train_labels, \n",
    "                                                                            test_size = 0.10, random_state = 42)"
   ]
  },
  {
   "cell_type": "code",
   "execution_count": 49,
   "metadata": {},
   "outputs": [
    {
     "data": {
      "text/plain": [
       "252"
      ]
     },
     "execution_count": 49,
     "metadata": {},
     "output_type": "execute_result"
    }
   ],
   "source": [
    "feature_names = list(x_no_lex.columns)\n",
    "len(feature_names)"
   ]
  },
  {
   "cell_type": "code",
   "execution_count": 50,
   "metadata": {},
   "outputs": [],
   "source": [
    "dtrain = xgboost.DMatrix(train_features, label=train_labels, feature_names=feature_names)\n",
    "dtest = xgboost.DMatrix(test_features, label=test_labels, feature_names=feature_names)\n",
    "dtrain1 = xgboost.DMatrix(train_features1, label=train_labels1, feature_names=feature_names)\n",
    "dval = xgboost.DMatrix(val_features, label=val_labels, feature_names=feature_names)"
   ]
  },
  {
   "cell_type": "code",
   "execution_count": 51,
   "metadata": {},
   "outputs": [],
   "source": [
    "params = {'max_depth': 6,\n",
    " 'min_child_weight': 18,\n",
    " 'eta': 0.2,\n",
    " 'subsample': 1.0,\n",
    " 'colsample_bytree': 1.0,\n",
    " 'objective': 'binary:logistic',\n",
    " 'disable_default_eval_metric': 1,\n",
    " 'seed': 42,\n",
    " 'tree_method': 'hist',\n",
    " 'scale_pos_weight': 9.471599402092675}\n",
    "num_boost_round=999"
   ]
  },
  {
   "cell_type": "code",
   "execution_count": 52,
   "metadata": {
    "scrolled": true
   },
   "outputs": [
    {
     "name": "stdout",
     "output_type": "stream",
     "text": [
      "[0]\tdtrain-F1_score:0.24465\tdval-F1_score:0.254424\n",
      "Multiple eval metrics have been passed: 'dval-F1_score' will be used for early stopping.\n",
      "\n",
      "Will train until dval-F1_score hasn't improved in 10 rounds.\n",
      "[1]\tdtrain-F1_score:0.260344\tdval-F1_score:0.270502\n",
      "[2]\tdtrain-F1_score:0.28026\tdval-F1_score:0.287744\n",
      "[3]\tdtrain-F1_score:0.278633\tdval-F1_score:0.284877\n",
      "[4]\tdtrain-F1_score:0.280912\tdval-F1_score:0.288708\n",
      "[5]\tdtrain-F1_score:0.288865\tdval-F1_score:0.294516\n",
      "[6]\tdtrain-F1_score:0.290112\tdval-F1_score:0.296342\n",
      "[7]\tdtrain-F1_score:0.292988\tdval-F1_score:0.294118\n",
      "[8]\tdtrain-F1_score:0.295732\tdval-F1_score:0.296846\n",
      "[9]\tdtrain-F1_score:0.295322\tdval-F1_score:0.296743\n",
      "[10]\tdtrain-F1_score:0.300788\tdval-F1_score:0.297899\n",
      "[11]\tdtrain-F1_score:0.300033\tdval-F1_score:0.297691\n",
      "[12]\tdtrain-F1_score:0.30206\tdval-F1_score:0.301337\n",
      "[13]\tdtrain-F1_score:0.305805\tdval-F1_score:0.313507\n",
      "[14]\tdtrain-F1_score:0.309971\tdval-F1_score:0.315197\n",
      "[15]\tdtrain-F1_score:0.311357\tdval-F1_score:0.313676\n",
      "[16]\tdtrain-F1_score:0.314909\tdval-F1_score:0.315657\n",
      "[17]\tdtrain-F1_score:0.316434\tdval-F1_score:0.318584\n",
      "[18]\tdtrain-F1_score:0.318594\tdval-F1_score:0.321316\n",
      "[19]\tdtrain-F1_score:0.321642\tdval-F1_score:0.324186\n",
      "[20]\tdtrain-F1_score:0.322576\tdval-F1_score:0.324186\n",
      "[21]\tdtrain-F1_score:0.323142\tdval-F1_score:0.326115\n",
      "[22]\tdtrain-F1_score:0.324943\tdval-F1_score:0.323077\n",
      "[23]\tdtrain-F1_score:0.32791\tdval-F1_score:0.322663\n",
      "[24]\tdtrain-F1_score:0.327595\tdval-F1_score:0.322663\n",
      "[25]\tdtrain-F1_score:0.330693\tdval-F1_score:0.323907\n",
      "[26]\tdtrain-F1_score:0.332198\tdval-F1_score:0.317949\n",
      "[27]\tdtrain-F1_score:0.334193\tdval-F1_score:0.319794\n",
      "[28]\tdtrain-F1_score:0.335285\tdval-F1_score:0.319846\n",
      "[29]\tdtrain-F1_score:0.335495\tdval-F1_score:0.319285\n",
      "[30]\tdtrain-F1_score:0.335818\tdval-F1_score:0.319949\n",
      "[31]\tdtrain-F1_score:0.335951\tdval-F1_score:0.319436\n",
      "Stopping. Best iteration:\n",
      "[21]\tdtrain-F1_score:0.323142\tdval-F1_score:0.326115\n",
      "\n"
     ]
    }
   ],
   "source": [
    "xgboost_no_lex = xgboost.train(\n",
    "    params,\n",
    "    dtrain1,\n",
    "    num_boost_round=num_boost_round,\n",
    "    evals=[(dtrain1, 'dtrain'), (dval, 'dval')],\n",
    "    feval=f1_eval,\n",
    "    early_stopping_rounds = 10,\n",
    "    maximize=True)"
   ]
  },
  {
   "cell_type": "code",
   "execution_count": 53,
   "metadata": {},
   "outputs": [],
   "source": [
    "# os.chdir('/Users/ladarudnitckaia/Desktop/Master Thesis/9. ML')\n",
    "xgboost_no_lex.save_model(\"xgboost_no_lex.model\")\n",
    "xgboost_no_lex = xgboost.Booster()\n",
    "xgboost_no_lex.load_model(\"xgboost_no_lex.model\")"
   ]
  },
  {
   "cell_type": "code",
   "execution_count": 54,
   "metadata": {},
   "outputs": [
    {
     "name": "stdout",
     "output_type": "stream",
     "text": [
      "Performance of xgboost_no_lex, test:\n",
      "F1: 0.31\n",
      "Precision: 0.2\n",
      "Recall: 0.62\n",
      "AUC: 0.72\n",
      "Accuracy: 0.81\n",
      "Confusion matrix:\n",
      " [[4960  168]\n",
      " [1071  276]]\n"
     ]
    }
   ],
   "source": [
    "xgboost_no_lex_predt = np.where(xgboost_no_lex.predict(dtest) > 0.5, 1, 0)\n",
    "print('Performance of xgboost_no_lex, test:')\n",
    "print('F1:', round(metrics.f1_score(dtest.get_label(),xgboost_no_lex_predt),2))\n",
    "print('Precision:', round(metrics.precision_score(dtest.get_label(), xgboost_no_lex_predt),2))\n",
    "print('Recall:', round(metrics.recall_score(dtest.get_label(), xgboost_no_lex_predt),2))\n",
    "print('AUC:', round(metrics.roc_auc_score(dtest.get_label(), xgboost_no_lex_predt),2))\n",
    "print('Accuracy:', round(metrics.accuracy_score(dtest.get_label(), xgboost_no_lex_predt),2))\n",
    "print('Confusion matrix:\\n', metrics.confusion_matrix(dtest.get_label(), xgboost_no_lex_predt).transpose())"
   ]
  },
  {
   "cell_type": "code",
   "execution_count": 55,
   "metadata": {},
   "outputs": [
    {
     "data": {
      "text/plain": [
       "Text(0, 0.5, 'Features')"
      ]
     },
     "execution_count": 55,
     "metadata": {},
     "output_type": "execute_result"
    },
    {
     "data": {
      "image/png": "[encoded data removed]",
      "text/plain": [
       "<Figure size 576x576 with 1 Axes>"
      ]
     },
     "metadata": {
      "needs_background": "light"
     },
     "output_type": "display_data"
    }
   ],
   "source": [
    "fig, ax = plt.subplots(1, 1, figsize=(8,8))\n",
    "plt.rcParams['font.size'] = 16\n",
    "\n",
    "xgboost.plot_importance(xgboost_no_lex, ax=ax, show_values=False, max_num_features=20,\n",
    "                       importance_type='gain', height=0.7, grid=False, color='lightsteelblue')\n",
    "ax.set_ylabel('Features', fontsize=16)"
   ]
  },
  {
   "cell_type": "markdown",
   "metadata": {},
   "source": [
    "### 2.7 All features without bias lexicon"
   ]
  },
  {
   "cell_type": "code",
   "execution_count": 56,
   "metadata": {},
   "outputs": [],
   "source": [
    "x_no_bias_lex = x.drop(['bias_lexicon', 'bias_lexicon_context'], 1)"
   ]
  },
  {
   "cell_type": "code",
   "execution_count": 57,
   "metadata": {},
   "outputs": [],
   "source": [
    "train_features, test_features, train_labels, test_labels = train_test_split(x_no_bias_lex, y4, \n",
    "                                                                            test_size = 0.10, random_state = 42)\n",
    "train_features1, val_features, train_labels1, val_labels = train_test_split(train_features, train_labels, \n",
    "                                                                            test_size = 0.10, random_state = 42)"
   ]
  },
  {
   "cell_type": "code",
   "execution_count": 58,
   "metadata": {},
   "outputs": [
    {
     "data": {
      "text/plain": [
       "288"
      ]
     },
     "execution_count": 58,
     "metadata": {},
     "output_type": "execute_result"
    }
   ],
   "source": [
    "feature_names = list(x_no_bias_lex.columns)\n",
    "len(feature_names)"
   ]
  },
  {
   "cell_type": "code",
   "execution_count": 59,
   "metadata": {},
   "outputs": [],
   "source": [
    "dtrain = xgboost.DMatrix(train_features, label=train_labels, feature_names=feature_names)\n",
    "dtest = xgboost.DMatrix(test_features, label=test_labels, feature_names=feature_names)\n",
    "dtrain1 = xgboost.DMatrix(train_features1, label=train_labels1, feature_names=feature_names)\n",
    "dval = xgboost.DMatrix(val_features, label=val_labels, feature_names=feature_names)"
   ]
  },
  {
   "cell_type": "code",
   "execution_count": 60,
   "metadata": {},
   "outputs": [],
   "source": [
    "params = {'max_depth': 6,\n",
    " 'min_child_weight': 18,\n",
    " 'eta': 0.2,\n",
    " 'subsample': 1.0,\n",
    " 'colsample_bytree': 1.0,\n",
    " 'objective': 'binary:logistic',\n",
    " 'disable_default_eval_metric': 1,\n",
    " 'seed': 42,\n",
    " 'tree_method': 'hist',\n",
    " 'scale_pos_weight': 9.471599402092675}\n",
    "num_boost_round=999"
   ]
  },
  {
   "cell_type": "code",
   "execution_count": 61,
   "metadata": {
    "scrolled": true
   },
   "outputs": [
    {
     "name": "stdout",
     "output_type": "stream",
     "text": [
      "[0]\tdtrain-F1_score:0.314376\tdval-F1_score:0.308677\n",
      "Multiple eval metrics have been passed: 'dval-F1_score' will be used for early stopping.\n",
      "\n",
      "Will train until dval-F1_score hasn't improved in 10 rounds.\n",
      "[1]\tdtrain-F1_score:0.327306\tdval-F1_score:0.32\n",
      "[2]\tdtrain-F1_score:0.336051\tdval-F1_score:0.331858\n",
      "[3]\tdtrain-F1_score:0.339138\tdval-F1_score:0.337296\n",
      "[4]\tdtrain-F1_score:0.341195\tdval-F1_score:0.338733\n",
      "[5]\tdtrain-F1_score:0.341515\tdval-F1_score:0.342302\n",
      "[6]\tdtrain-F1_score:0.346983\tdval-F1_score:0.350592\n",
      "[7]\tdtrain-F1_score:0.349378\tdval-F1_score:0.353289\n",
      "[8]\tdtrain-F1_score:0.353402\tdval-F1_score:0.355791\n",
      "[9]\tdtrain-F1_score:0.354881\tdval-F1_score:0.359517\n",
      "[10]\tdtrain-F1_score:0.356483\tdval-F1_score:0.360509\n",
      "[11]\tdtrain-F1_score:0.358576\tdval-F1_score:0.362297\n",
      "[12]\tdtrain-F1_score:0.359588\tdval-F1_score:0.359567\n",
      "[13]\tdtrain-F1_score:0.363135\tdval-F1_score:0.354136\n",
      "[14]\tdtrain-F1_score:0.363037\tdval-F1_score:0.357298\n",
      "[15]\tdtrain-F1_score:0.365669\tdval-F1_score:0.362319\n",
      "[16]\tdtrain-F1_score:0.369627\tdval-F1_score:0.35942\n",
      "[17]\tdtrain-F1_score:0.370038\tdval-F1_score:0.362445\n",
      "[18]\tdtrain-F1_score:0.372071\tdval-F1_score:0.362056\n",
      "[19]\tdtrain-F1_score:0.373381\tdval-F1_score:0.365482\n",
      "[20]\tdtrain-F1_score:0.374441\tdval-F1_score:0.364964\n",
      "[21]\tdtrain-F1_score:0.37407\tdval-F1_score:0.366156\n",
      "[22]\tdtrain-F1_score:0.374668\tdval-F1_score:0.366279\n",
      "[23]\tdtrain-F1_score:0.375935\tdval-F1_score:0.363242\n",
      "[24]\tdtrain-F1_score:0.376924\tdval-F1_score:0.36049\n",
      "[25]\tdtrain-F1_score:0.377686\tdval-F1_score:0.35868\n",
      "[26]\tdtrain-F1_score:0.380486\tdval-F1_score:0.359195\n",
      "[27]\tdtrain-F1_score:0.383005\tdval-F1_score:0.360231\n",
      "[28]\tdtrain-F1_score:0.384484\tdval-F1_score:0.362193\n",
      "[29]\tdtrain-F1_score:0.384759\tdval-F1_score:0.359454\n",
      "[30]\tdtrain-F1_score:0.385231\tdval-F1_score:0.356478\n",
      "[31]\tdtrain-F1_score:0.385949\tdval-F1_score:0.357143\n",
      "[32]\tdtrain-F1_score:0.388431\tdval-F1_score:0.358571\n",
      "Stopping. Best iteration:\n",
      "[22]\tdtrain-F1_score:0.374668\tdval-F1_score:0.366279\n",
      "\n"
     ]
    }
   ],
   "source": [
    "xgboost_no_bias_lex = xgboost.train(\n",
    "    params,\n",
    "    dtrain1,\n",
    "    num_boost_round=num_boost_round,\n",
    "    evals=[(dtrain1, 'dtrain'), (dval, 'dval')],\n",
    "    feval=f1_eval,\n",
    "    early_stopping_rounds = 10,\n",
    "    maximize=True)"
   ]
  },
  {
   "cell_type": "code",
   "execution_count": 62,
   "metadata": {},
   "outputs": [],
   "source": [
    "# os.chdir('/Users/ladarudnitckaia/Desktop/Master Thesis/9. ML')\n",
    "xgboost_no_bias_lex.save_model(\"xgboost_no_bias_lex.model\")\n",
    "xgboost_no_bias_lex = xgboost.Booster()\n",
    "xgboost_no_bias_lex.load_model(\"xgboost_no_bias_lex.model\")"
   ]
  },
  {
   "cell_type": "code",
   "execution_count": 63,
   "metadata": {},
   "outputs": [
    {
     "name": "stdout",
     "output_type": "stream",
     "text": [
      "Performance of xgboost_no_bias_lex, test:\n",
      "F1: 0.35\n",
      "Precision: 0.24\n",
      "Recall: 0.63\n",
      "AUC: 0.74\n",
      "Accuracy: 0.84\n",
      "Confusion matrix:\n",
      " [[5138  165]\n",
      " [ 893  279]]\n"
     ]
    }
   ],
   "source": [
    "xgboost_no_bias_lex_predt = np.where(xgboost_no_bias_lex.predict(dtest) > 0.5, 1, 0)\n",
    "print('Performance of xgboost_no_bias_lex, test:')\n",
    "print('F1:', round(metrics.f1_score(dtest.get_label(),xgboost_no_bias_lex_predt),2))\n",
    "print('Precision:', round(metrics.precision_score(dtest.get_label(), xgboost_no_bias_lex_predt),2))\n",
    "print('Recall:', round(metrics.recall_score(dtest.get_label(), xgboost_no_bias_lex_predt),2))\n",
    "print('AUC:', round(metrics.roc_auc_score(dtest.get_label(), xgboost_no_bias_lex_predt),2))\n",
    "print('Accuracy:', round(metrics.accuracy_score(dtest.get_label(), xgboost_no_bias_lex_predt),2))\n",
    "print('Confusion matrix:\\n', metrics.confusion_matrix(dtest.get_label(), xgboost_no_bias_lex_predt).transpose())"
   ]
  },
  {
   "cell_type": "code",
   "execution_count": 64,
   "metadata": {},
   "outputs": [
    {
     "data": {
      "text/plain": [
       "Text(0, 0.5, 'Features')"
      ]
     },
     "execution_count": 64,
     "metadata": {},
     "output_type": "execute_result"
    },
    {
     "data": {
      "image/png": "[encoded data removed]",
      "text/plain": [
       "<Figure size 576x576 with 1 Axes>"
      ]
     },
     "metadata": {
      "needs_background": "light"
     },
     "output_type": "display_data"
    }
   ],
   "source": [
    "fig, ax = plt.subplots(1, 1, figsize=(8,8))\n",
    "plt.rcParams['font.size'] = 16\n",
    "\n",
    "xgboost.plot_importance(xgboost_no_bias_lex, ax=ax, show_values=False, max_num_features=20,\n",
    "                       importance_type='gain', height=0.7, grid=False, color='lightsteelblue')\n",
    "ax.set_ylabel('Features', fontsize=16)"
   ]
  },
  {
   "cell_type": "markdown",
   "metadata": {},
   "source": [
    "### 2.8 No context"
   ]
  },
  {
   "cell_type": "code",
   "execution_count": 66,
   "metadata": {},
   "outputs": [],
   "source": [
    "x_no_context = x.drop(['negative_conc_context',\n",
    " 'positive_conc_context',\n",
    " 'weak_subj_context',\n",
    " 'strong_subj_context',\n",
    " 'hyperbolic_terms_context',\n",
    " 'attitude_markers_context',\n",
    " 'kill_verbs_context',\n",
    " 'bias_lexicon_context',\n",
    " 'action_verbs_context',\n",
    " 'comparative_forms_context',\n",
    " 'modal_adverbs_context',\n",
    " 'manner_adverbs_context',\n",
    " 'superlative_forms_context',\n",
    " 'assertive_verbs_context',\n",
    " 'factive_verbs_context',\n",
    " 'report_verbs_context',\n",
    " 'implicative_verbs_context',                       \n",
    " 'hedges_context',\n",
    " 'boosters_context',\n",
    " 'affect _context',\n",
    " 'posemo _context',\n",
    " 'negemo _context',\n",
    " 'anx _context',\n",
    " 'anger _context',\n",
    " 'sad _context',\n",
    " 'social _context',\n",
    " 'family _context',\n",
    " 'friend _context',\n",
    " 'female _context',\n",
    " 'male _context',\n",
    " 'cogproc _context',\n",
    " 'insight _context',\n",
    " 'cause _context',\n",
    " 'discrep _context',\n",
    " 'tentat _context',\n",
    " 'certain _context',\n",
    " 'differ _context',\n",
    " 'percept _context',\n",
    " 'see _context',\n",
    " 'hear _context',\n",
    " 'feel _context',\n",
    " 'bio _context',\n",
    " 'body _context',\n",
    " 'health _context',\n",
    " 'sexual _context',\n",
    " 'ingest _context',\n",
    " 'drives _context',\n",
    " 'affiliation _context',\n",
    " 'achieve _context',\n",
    " 'power _context',\n",
    " 'reward _context',\n",
    " 'risk _context',\n",
    " 'focuspast _context',\n",
    " 'focuspresent _context',\n",
    " 'focusfuture _context',\n",
    " 'relativ _context',\n",
    " 'motion _context',\n",
    " 'space _context',\n",
    " 'time _context',\n",
    " 'work _context',\n",
    " 'leisure _context',\n",
    " 'home _context',\n",
    " 'money _context',\n",
    " 'relig _context',\n",
    " 'death _context',\n",
    " 'informal _context',\n",
    " 'swear _context',\n",
    " 'netspeak _context',\n",
    " 'assent _context',\n",
    " 'nonflu _context',\n",
    " 'filler _context',\n",
    " 'pos_ADJ_context',\n",
    " 'pos_ADP_context',\n",
    " 'pos_ADV_context',\n",
    " 'pos_AUX_context',\n",
    " 'pos_DET_context',\n",
    " 'pos_INTJ_context',\n",
    " 'pos_NOUN_context',\n",
    " 'pos_PRON_context',\n",
    " 'pos_PROPN_context',\n",
    " 'pos_SCONJ_context',\n",
    " 'pos_VERB_context',\n",
    " 'pos_X_context',\n",
    " 'dep_ROOT_context',\n",
    " 'dep_acl_context',\n",
    " 'dep_acomp_context',\n",
    " 'dep_advcl_context',\n",
    " 'dep_advmod_context',\n",
    " 'dep_agent_context',\n",
    " 'dep_amod_context',\n",
    " 'dep_appos_context',\n",
    " 'dep_attr_context',\n",
    " 'dep_aux_context',\n",
    " 'dep_auxpass_context',\n",
    " 'dep_case_context',\n",
    " 'dep_cc_context',\n",
    " 'dep_ccomp_context',\n",
    " 'dep_compound_context',\n",
    " 'dep_conj_context',\n",
    " 'dep_csubj_context',\n",
    " 'dep_dative_context',\n",
    " 'dep_dep_context',\n",
    " 'dep_det_context',\n",
    " 'dep_dobj_context',\n",
    " 'dep_expl_context',\n",
    " 'dep_intj_context',\n",
    " 'dep_mark_context',\n",
    "#  'dep_meta_context',\n",
    " 'dep_neg_context',\n",
    " 'dep_nmod_context',\n",
    " 'dep_npadvmod_context',\n",
    " 'dep_nsubj_context',\n",
    " 'dep_nsubjpass_context',\n",
    " 'dep_nummod_context',\n",
    " 'dep_oprd_context',\n",
    " 'dep_parataxis_context',\n",
    " 'dep_pcomp_context',\n",
    " 'dep_pobj_context',\n",
    " 'dep_poss_context',\n",
    " 'dep_preconj_context',\n",
    " 'dep_predet_context',\n",
    " 'dep_prep_context',\n",
    " 'dep_prt_context',\n",
    " 'dep_punct_context',\n",
    " 'dep_quantmod_context',\n",
    " 'dep_relcl_context',\n",
    " 'dep_xcomp_context',\n",
    " 'ne_CARDINAL_context',\n",
    " 'ne_DATE_context',\n",
    " 'ne_EVENT_context',\n",
    " 'ne_FAC_context',\n",
    " 'ne_GPE_context',\n",
    " 'ne_LAW_context',\n",
    " 'ne_LOC_context',\n",
    " 'ne_MONEY_context',\n",
    " 'ne_NORP_context',\n",
    " 'ne_ORDINAL_context',\n",
    " 'ne_ORG_context',\n",
    " 'ne_PERCENT_context',\n",
    " 'ne_PERSON_context',\n",
    " 'ne_PRODUCT_context',\n",
    " 'ne_QUANTITY_context',\n",
    " 'ne_TIME_context',\n",
    " 'ne_WORK_OF_ART_context',\n",
    " 'ne_LANGUAGE_context'], 1)"
   ]
  },
  {
   "cell_type": "code",
   "execution_count": 67,
   "metadata": {},
   "outputs": [],
   "source": [
    "train_features, test_features, train_labels, test_labels = train_test_split(x_no_context, y4, \n",
    "                                                                            test_size = 0.10, random_state = 42)\n",
    "train_features1, val_features, train_labels1, val_labels = train_test_split(train_features, train_labels, \n",
    "                                                                            test_size = 0.10, random_state = 42)"
   ]
  },
  {
   "cell_type": "code",
   "execution_count": 68,
   "metadata": {},
   "outputs": [
    {
     "data": {
      "text/plain": [
       "146"
      ]
     },
     "execution_count": 68,
     "metadata": {},
     "output_type": "execute_result"
    }
   ],
   "source": [
    "feature_names = list(x_no_context.columns)\n",
    "len(feature_names)"
   ]
  },
  {
   "cell_type": "code",
   "execution_count": 69,
   "metadata": {},
   "outputs": [],
   "source": [
    "dtrain = xgboost.DMatrix(train_features, label=train_labels, feature_names=feature_names)\n",
    "dtest = xgboost.DMatrix(test_features, label=test_labels, feature_names=feature_names)\n",
    "dtrain1 = xgboost.DMatrix(train_features1, label=train_labels1, feature_names=feature_names)\n",
    "dval = xgboost.DMatrix(val_features, label=val_labels, feature_names=feature_names)"
   ]
  },
  {
   "cell_type": "code",
   "execution_count": 70,
   "metadata": {},
   "outputs": [],
   "source": [
    "params = {'max_depth': 6,\n",
    " 'min_child_weight': 18,\n",
    " 'eta': 0.2,\n",
    " 'subsample': 1.0,\n",
    " 'colsample_bytree': 1.0,\n",
    " 'objective': 'binary:logistic',\n",
    " 'disable_default_eval_metric': 1,\n",
    " 'seed': 42,\n",
    " 'tree_method': 'hist',\n",
    " 'scale_pos_weight': 9.471599402092675}\n",
    "num_boost_round=999"
   ]
  },
  {
   "cell_type": "code",
   "execution_count": 71,
   "metadata": {
    "scrolled": true
   },
   "outputs": [
    {
     "name": "stdout",
     "output_type": "stream",
     "text": [
      "[0]\tdtrain-F1_score:0.319466\tdval-F1_score:0.316031\n",
      "Multiple eval metrics have been passed: 'dval-F1_score' will be used for early stopping.\n",
      "\n",
      "Will train until dval-F1_score hasn't improved in 10 rounds.\n",
      "[1]\tdtrain-F1_score:0.335955\tdval-F1_score:0.334728\n",
      "[2]\tdtrain-F1_score:0.329773\tdval-F1_score:0.330218\n",
      "[3]\tdtrain-F1_score:0.337464\tdval-F1_score:0.336973\n",
      "[4]\tdtrain-F1_score:0.338167\tdval-F1_score:0.343032\n",
      "[5]\tdtrain-F1_score:0.340311\tdval-F1_score:0.342262\n",
      "[6]\tdtrain-F1_score:0.344065\tdval-F1_score:0.346183\n",
      "[7]\tdtrain-F1_score:0.345539\tdval-F1_score:0.35303\n",
      "[8]\tdtrain-F1_score:0.34438\tdval-F1_score:0.350333\n",
      "[9]\tdtrain-F1_score:0.345492\tdval-F1_score:0.351471\n",
      "[10]\tdtrain-F1_score:0.348577\tdval-F1_score:0.355099\n",
      "[11]\tdtrain-F1_score:0.350897\tdval-F1_score:0.358476\n",
      "[12]\tdtrain-F1_score:0.351197\tdval-F1_score:0.355426\n",
      "[13]\tdtrain-F1_score:0.352288\tdval-F1_score:0.359124\n",
      "[14]\tdtrain-F1_score:0.353044\tdval-F1_score:0.362573\n",
      "[15]\tdtrain-F1_score:0.354728\tdval-F1_score:0.362838\n",
      "[16]\tdtrain-F1_score:0.356401\tdval-F1_score:0.355195\n",
      "[17]\tdtrain-F1_score:0.356412\tdval-F1_score:0.35709\n",
      "[18]\tdtrain-F1_score:0.357341\tdval-F1_score:0.360203\n",
      "[19]\tdtrain-F1_score:0.358101\tdval-F1_score:0.363112\n",
      "[20]\tdtrain-F1_score:0.360726\tdval-F1_score:0.363506\n",
      "[21]\tdtrain-F1_score:0.361111\tdval-F1_score:0.364291\n",
      "[22]\tdtrain-F1_score:0.361385\tdval-F1_score:0.367435\n",
      "[23]\tdtrain-F1_score:0.360758\tdval-F1_score:0.367668\n",
      "[24]\tdtrain-F1_score:0.365803\tdval-F1_score:0.369993\n",
      "[25]\tdtrain-F1_score:0.365614\tdval-F1_score:0.371449\n",
      "[26]\tdtrain-F1_score:0.364106\tdval-F1_score:0.365854\n",
      "[27]\tdtrain-F1_score:0.365469\tdval-F1_score:0.367143\n",
      "[28]\tdtrain-F1_score:0.367114\tdval-F1_score:0.362857\n",
      "[29]\tdtrain-F1_score:0.367414\tdval-F1_score:0.364419\n",
      "[30]\tdtrain-F1_score:0.367771\tdval-F1_score:0.365068\n",
      "[31]\tdtrain-F1_score:0.367726\tdval-F1_score:0.367171\n",
      "[32]\tdtrain-F1_score:0.368393\tdval-F1_score:0.367668\n",
      "[33]\tdtrain-F1_score:0.368405\tdval-F1_score:0.367668\n",
      "[34]\tdtrain-F1_score:0.368617\tdval-F1_score:0.368835\n",
      "[35]\tdtrain-F1_score:0.369786\tdval-F1_score:0.367931\n",
      "Stopping. Best iteration:\n",
      "[25]\tdtrain-F1_score:0.365614\tdval-F1_score:0.371449\n",
      "\n"
     ]
    }
   ],
   "source": [
    "xgboost_no_context = xgboost.train(\n",
    "    params,\n",
    "    dtrain1,\n",
    "    num_boost_round=num_boost_round,\n",
    "    evals=[(dtrain1, 'dtrain'), (dval, 'dval')],\n",
    "    feval=f1_eval,\n",
    "    early_stopping_rounds = 10,\n",
    "    maximize=True)"
   ]
  },
  {
   "cell_type": "code",
   "execution_count": 72,
   "metadata": {},
   "outputs": [],
   "source": [
    "# os.chdir('/Users/ladarudnitckaia/Desktop/Master Thesis/9. ML')\n",
    "xgboost_no_context.save_model(\"xgboost_no_context.model\")\n",
    "xgboost_no_context = xgboost.Booster()\n",
    "xgboost_no_context.load_model(\"xgboost_no_context.model\")"
   ]
  },
  {
   "cell_type": "code",
   "execution_count": 74,
   "metadata": {},
   "outputs": [
    {
     "name": "stdout",
     "output_type": "stream",
     "text": [
      "Performance of xgboost_no_context, test:\n",
      "F1: 0.34\n",
      "Precision: 0.24\n",
      "Recall: 0.64\n",
      "AUC: 0.75\n",
      "Accuracy: 0.83\n",
      "Confusion matrix:\n",
      " [[5102  158]\n",
      " [ 929  286]]\n"
     ]
    }
   ],
   "source": [
    "xgboost_no_context_predt = np.where(xgboost_no_context.predict(dtest) > 0.5, 1, 0)\n",
    "print('Performance of xgboost_no_context, test:')\n",
    "print('F1:', round(metrics.f1_score(dtest.get_label(),xgboost_no_context_predt),2))\n",
    "print('Precision:', round(metrics.precision_score(dtest.get_label(), xgboost_no_context_predt),2))\n",
    "print('Recall:', round(metrics.recall_score(dtest.get_label(), xgboost_no_context_predt),2))\n",
    "print('AUC:', round(metrics.roc_auc_score(dtest.get_label(), xgboost_no_context_predt),2))\n",
    "print('Accuracy:', round(metrics.accuracy_score(dtest.get_label(), xgboost_no_context_predt),2))\n",
    "print('Confusion matrix:\\n', metrics.confusion_matrix(dtest.get_label(), xgboost_no_context_predt).transpose())"
   ]
  },
  {
   "cell_type": "code",
   "execution_count": 75,
   "metadata": {},
   "outputs": [
    {
     "data": {
      "text/plain": [
       "Text(0, 0.5, 'Features')"
      ]
     },
     "execution_count": 75,
     "metadata": {},
     "output_type": "execute_result"
    },
    {
     "data": {
      "image/png": "[encoded data removed]",
      "text/plain": [
       "<Figure size 576x576 with 1 Axes>"
      ]
     },
     "metadata": {
      "needs_background": "light"
     },
     "output_type": "display_data"
    }
   ],
   "source": [
    "fig, ax = plt.subplots(1, 1, figsize=(8,8))\n",
    "plt.rcParams['font.size'] = 16\n",
    "\n",
    "xgboost.plot_importance(xgboost_no_context, ax=ax, show_values=False, max_num_features=20,\n",
    "                       importance_type='gain', height=0.7, grid=False, color='lightsteelblue')\n",
    "ax.set_ylabel('Features', fontsize=16)"
   ]
  },
  {
   "cell_type": "code",
   "execution_count": null,
   "metadata": {},
   "outputs": [],
   "source": []
  }
 ],
 "metadata": {
  "kernelspec": {
   "display_name": "Python 3",
   "language": "python",
   "name": "python3"
  },
  "language_info": {
   "codemirror_mode": {
    "name": "ipython",
    "version": 3
   },
   "file_extension": ".py",
   "mimetype": "text/x-python",
   "name": "python",
   "nbconvert_exporter": "python",
   "pygments_lexer": "ipython3",
   "version": "3.7.6"
  }
 },
 "nbformat": 4,
 "nbformat_minor": 2
}
